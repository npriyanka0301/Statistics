{
 "cells": [
  {
   "cell_type": "markdown",
   "id": "cc0a2f7c",
   "metadata": {},
   "source": [
    "# DATA ANALYSIS TASK\n",
    "INNOMATICS RESEARCH LABS\n",
    "\n",
    "INTERNSHIP TASK\n",
    "\n",
    "N.PRIYANKA"
   ]
  },
  {
   "cell_type": "markdown",
   "id": "e721df73",
   "metadata": {},
   "source": [
    "# Missing values + outliers - Detection and Treatment + MORE 😁.\n",
    "\n",
    "Dataset - adult.csv\n",
    "Dataset Description - Google it  😑\n",
    "\n",
    "Perform below mentioned tasks:\n",
    "Step - 1 - Introduction -> Give a detailed data description and objective\n",
    "\n",
    "Step - 2 - Import the data and perform basic pandas operations. \n",
    "\n",
    "Step - 3 - Univariate Analysis -> PDF, Histograms, Boxplots, Countplots, etc..\n",
    "Understand the probability and frequency distribution of each numerical column\n",
    "Understand the frequency distribution of each categorical Variable/Column\n",
    "Mention observations after each plot.\n",
    "\n",
    "Step - 4 - Bivariate Analysis\n",
    "Discover the relationships between numerical columns using Scatter plots, hexbin plots, pair plots, etc..\n",
    "Identify the patterns between categorical and numerical columns using swarmplot, boxplot, barplot, etc..\n",
    "Mention observations after each plot.\n",
    "\n",
    "Step - 5 - In the above steps you might have encountered many missing values and outliers. \n",
    "Find and treat the outliers and missing values in each column 😥\n",
    "Read this Kaggle Notebook and understand various ways to detect and handle outliers. Try to implement the same. Outlier!!! The Silent Killer\n",
    "\n",
    "Step - 6 - Conclusion of EDA\n",
    "NOTE: Mention observations after each plot.🙄\n",
    "\n",
    "Step - 7 - Perform feature transformation:\n",
    "For Numerical Features -> Do Column Standardization\n",
    "For Categorical -> if more than 2 categories, use dummy variables. Otherwise convert the feature to Binary.\n",
    "\n",
    "Step - 8 - Build various Machine Learning models considering ‘income’ as target variable.\n",
    "\n",
    "Step - 9 - Create a table to compare the performance of each of the ML Model."
   ]
  },
  {
   "cell_type": "markdown",
   "id": "e9f6526d",
   "metadata": {},
   "source": [
    "# STEP1:\n",
    "GIVE DETAILED DESCRIPTION OF DATA AND ALSO THE OBJECTIVE"
   ]
  },
  {
   "cell_type": "markdown",
   "id": "17691690",
   "metadata": {},
   "source": [
    "Data Set Information:\n",
    "\n",
    "The given dataset extraction was done by Barry Becker from the 1994 Census database. A set of reasonably clean records was extracted using the following conditions: ((AAGE>16) && (AGI>100) && (AFNLWGT>1)&& (HRSWK>0))\n",
    "\n",
    "Prediction task is to determine whether a person makes over 50K a year.\n",
    "\n",
    "Data Set Characteristics :  Multivariate\n",
    "Attribute Characteristics:  Categorical, Integer\n",
    "ProblemType              :  classification\n",
    "NumberofInstances        :  48842\n",
    "NumberofAttributes       :  14\n",
    "Domain                   :  Social"
   ]
  },
  {
   "cell_type": "markdown",
   "id": "b6b1c09e",
   "metadata": {},
   "source": [
    "# STEP2:\n",
    "Import the data and perform basic pandas operations"
   ]
  },
  {
   "cell_type": "code",
   "execution_count": 1,
   "id": "a97b4330",
   "metadata": {},
   "outputs": [],
   "source": [
    "import numpy as np \n",
    "import pandas as pd \n",
    "import seaborn as sns\n",
    "import warnings\n",
    "warnings.filterwarnings(\"ignore\")\n",
    "import plotly.offline as py\n",
    "import plotly.graph_objs as go\n",
    "import plotly.tools as tls\n",
    "import matplotlib.pyplot as plt\n",
    "%matplotlib inline\n",
    "import matplotlib.pyplot as pplt  \n",
    "from sklearn.preprocessing import StandardScaler, OneHotEncoder, LabelEncoder\n",
    "from sklearn.impute import SimpleImputer\n",
    "from sklearn.metrics import accuracy_score, recall_score, precision_score, f1_score,classification_report\n",
    "\n",
    "from sklearn.model_selection import train_test_split\n",
    "\n",
    "from sklearn.model_selection import train_test_split,cross_val_score,GridSearchCV\n",
    "from sklearn.linear_model import LogisticRegression\n",
    "from sklearn.tree import DecisionTreeClassifier\n",
    "from sklearn.ensemble import RandomForestClassifier,AdaBoostClassifier,BaggingClassifier,ExtraTreesClassifier\n",
    "from sklearn.naive_bayes import GaussianNB\n",
    "from sklearn.discriminant_analysis import LinearDiscriminantAnalysis\n",
    "from sklearn.ensemble import AdaBoostClassifier\n",
    "from sklearn.ensemble import GradientBoostingClassifier\n",
    "from sklearn.ensemble import RandomForestClassifier\n",
    "from sklearn.ensemble import ExtraTreesClassifier\n",
    "from sklearn.metrics import accuracy_score,confusion_matrix,roc_auc_score\n",
    "from sklearn import metrics\n",
    "from datetime import datetime\n",
    "from sklearn.feature_selection import RFE\n",
    "from sklearn.model_selection import StratifiedKFold\n",
    "from sklearn.ensemble import GradientBoostingClassifier"
   ]
  },
  {
   "cell_type": "code",
   "execution_count": 2,
   "id": "5c83a66e",
   "metadata": {},
   "outputs": [],
   "source": [
    "# Reading the data\n",
    "data = pd.read_csv('adult.csv',header=0,na_values='?')"
   ]
  },
  {
   "cell_type": "code",
   "execution_count": 3,
   "id": "25fa2457",
   "metadata": {},
   "outputs": [
    {
     "data": {
      "text/plain": [
       "(48842, 15)"
      ]
     },
     "execution_count": 3,
     "metadata": {},
     "output_type": "execute_result"
    }
   ],
   "source": [
    "data.shape"
   ]
  },
  {
   "cell_type": "code",
   "execution_count": 4,
   "id": "8b752dff",
   "metadata": {},
   "outputs": [
    {
     "data": {
      "text/html": [
       "<div>\n",
       "<style scoped>\n",
       "    .dataframe tbody tr th:only-of-type {\n",
       "        vertical-align: middle;\n",
       "    }\n",
       "\n",
       "    .dataframe tbody tr th {\n",
       "        vertical-align: top;\n",
       "    }\n",
       "\n",
       "    .dataframe thead th {\n",
       "        text-align: right;\n",
       "    }\n",
       "</style>\n",
       "<table border=\"1\" class=\"dataframe\">\n",
       "  <thead>\n",
       "    <tr style=\"text-align: right;\">\n",
       "      <th></th>\n",
       "      <th>age</th>\n",
       "      <th>workclass</th>\n",
       "      <th>fnlwgt</th>\n",
       "      <th>education</th>\n",
       "      <th>educational-num</th>\n",
       "      <th>marital-status</th>\n",
       "      <th>occupation</th>\n",
       "      <th>relationship</th>\n",
       "      <th>race</th>\n",
       "      <th>gender</th>\n",
       "      <th>capital-gain</th>\n",
       "      <th>capital-loss</th>\n",
       "      <th>hours-per-week</th>\n",
       "      <th>native-country</th>\n",
       "      <th>income</th>\n",
       "    </tr>\n",
       "  </thead>\n",
       "  <tbody>\n",
       "    <tr>\n",
       "      <th>0</th>\n",
       "      <td>25</td>\n",
       "      <td>Private</td>\n",
       "      <td>226802</td>\n",
       "      <td>11th</td>\n",
       "      <td>7</td>\n",
       "      <td>Never-married</td>\n",
       "      <td>Machine-op-inspct</td>\n",
       "      <td>Own-child</td>\n",
       "      <td>Black</td>\n",
       "      <td>Male</td>\n",
       "      <td>0</td>\n",
       "      <td>0</td>\n",
       "      <td>40</td>\n",
       "      <td>United-States</td>\n",
       "      <td>&lt;=50K</td>\n",
       "    </tr>\n",
       "    <tr>\n",
       "      <th>1</th>\n",
       "      <td>38</td>\n",
       "      <td>Private</td>\n",
       "      <td>89814</td>\n",
       "      <td>HS-grad</td>\n",
       "      <td>9</td>\n",
       "      <td>Married-civ-spouse</td>\n",
       "      <td>Farming-fishing</td>\n",
       "      <td>Husband</td>\n",
       "      <td>White</td>\n",
       "      <td>Male</td>\n",
       "      <td>0</td>\n",
       "      <td>0</td>\n",
       "      <td>50</td>\n",
       "      <td>United-States</td>\n",
       "      <td>&lt;=50K</td>\n",
       "    </tr>\n",
       "    <tr>\n",
       "      <th>2</th>\n",
       "      <td>28</td>\n",
       "      <td>Local-gov</td>\n",
       "      <td>336951</td>\n",
       "      <td>Assoc-acdm</td>\n",
       "      <td>12</td>\n",
       "      <td>Married-civ-spouse</td>\n",
       "      <td>Protective-serv</td>\n",
       "      <td>Husband</td>\n",
       "      <td>White</td>\n",
       "      <td>Male</td>\n",
       "      <td>0</td>\n",
       "      <td>0</td>\n",
       "      <td>40</td>\n",
       "      <td>United-States</td>\n",
       "      <td>&gt;50K</td>\n",
       "    </tr>\n",
       "    <tr>\n",
       "      <th>3</th>\n",
       "      <td>44</td>\n",
       "      <td>Private</td>\n",
       "      <td>160323</td>\n",
       "      <td>Some-college</td>\n",
       "      <td>10</td>\n",
       "      <td>Married-civ-spouse</td>\n",
       "      <td>Machine-op-inspct</td>\n",
       "      <td>Husband</td>\n",
       "      <td>Black</td>\n",
       "      <td>Male</td>\n",
       "      <td>7688</td>\n",
       "      <td>0</td>\n",
       "      <td>40</td>\n",
       "      <td>United-States</td>\n",
       "      <td>&gt;50K</td>\n",
       "    </tr>\n",
       "    <tr>\n",
       "      <th>4</th>\n",
       "      <td>18</td>\n",
       "      <td>NaN</td>\n",
       "      <td>103497</td>\n",
       "      <td>Some-college</td>\n",
       "      <td>10</td>\n",
       "      <td>Never-married</td>\n",
       "      <td>NaN</td>\n",
       "      <td>Own-child</td>\n",
       "      <td>White</td>\n",
       "      <td>Female</td>\n",
       "      <td>0</td>\n",
       "      <td>0</td>\n",
       "      <td>30</td>\n",
       "      <td>United-States</td>\n",
       "      <td>&lt;=50K</td>\n",
       "    </tr>\n",
       "    <tr>\n",
       "      <th>5</th>\n",
       "      <td>34</td>\n",
       "      <td>Private</td>\n",
       "      <td>198693</td>\n",
       "      <td>10th</td>\n",
       "      <td>6</td>\n",
       "      <td>Never-married</td>\n",
       "      <td>Other-service</td>\n",
       "      <td>Not-in-family</td>\n",
       "      <td>White</td>\n",
       "      <td>Male</td>\n",
       "      <td>0</td>\n",
       "      <td>0</td>\n",
       "      <td>30</td>\n",
       "      <td>United-States</td>\n",
       "      <td>&lt;=50K</td>\n",
       "    </tr>\n",
       "    <tr>\n",
       "      <th>6</th>\n",
       "      <td>29</td>\n",
       "      <td>NaN</td>\n",
       "      <td>227026</td>\n",
       "      <td>HS-grad</td>\n",
       "      <td>9</td>\n",
       "      <td>Never-married</td>\n",
       "      <td>NaN</td>\n",
       "      <td>Unmarried</td>\n",
       "      <td>Black</td>\n",
       "      <td>Male</td>\n",
       "      <td>0</td>\n",
       "      <td>0</td>\n",
       "      <td>40</td>\n",
       "      <td>United-States</td>\n",
       "      <td>&lt;=50K</td>\n",
       "    </tr>\n",
       "    <tr>\n",
       "      <th>7</th>\n",
       "      <td>63</td>\n",
       "      <td>Self-emp-not-inc</td>\n",
       "      <td>104626</td>\n",
       "      <td>Prof-school</td>\n",
       "      <td>15</td>\n",
       "      <td>Married-civ-spouse</td>\n",
       "      <td>Prof-specialty</td>\n",
       "      <td>Husband</td>\n",
       "      <td>White</td>\n",
       "      <td>Male</td>\n",
       "      <td>3103</td>\n",
       "      <td>0</td>\n",
       "      <td>32</td>\n",
       "      <td>United-States</td>\n",
       "      <td>&gt;50K</td>\n",
       "    </tr>\n",
       "    <tr>\n",
       "      <th>8</th>\n",
       "      <td>24</td>\n",
       "      <td>Private</td>\n",
       "      <td>369667</td>\n",
       "      <td>Some-college</td>\n",
       "      <td>10</td>\n",
       "      <td>Never-married</td>\n",
       "      <td>Other-service</td>\n",
       "      <td>Unmarried</td>\n",
       "      <td>White</td>\n",
       "      <td>Female</td>\n",
       "      <td>0</td>\n",
       "      <td>0</td>\n",
       "      <td>40</td>\n",
       "      <td>United-States</td>\n",
       "      <td>&lt;=50K</td>\n",
       "    </tr>\n",
       "    <tr>\n",
       "      <th>9</th>\n",
       "      <td>55</td>\n",
       "      <td>Private</td>\n",
       "      <td>104996</td>\n",
       "      <td>7th-8th</td>\n",
       "      <td>4</td>\n",
       "      <td>Married-civ-spouse</td>\n",
       "      <td>Craft-repair</td>\n",
       "      <td>Husband</td>\n",
       "      <td>White</td>\n",
       "      <td>Male</td>\n",
       "      <td>0</td>\n",
       "      <td>0</td>\n",
       "      <td>10</td>\n",
       "      <td>United-States</td>\n",
       "      <td>&lt;=50K</td>\n",
       "    </tr>\n",
       "  </tbody>\n",
       "</table>\n",
       "</div>"
      ],
      "text/plain": [
       "   age         workclass  fnlwgt     education  educational-num  \\\n",
       "0   25           Private  226802          11th                7   \n",
       "1   38           Private   89814       HS-grad                9   \n",
       "2   28         Local-gov  336951    Assoc-acdm               12   \n",
       "3   44           Private  160323  Some-college               10   \n",
       "4   18               NaN  103497  Some-college               10   \n",
       "5   34           Private  198693          10th                6   \n",
       "6   29               NaN  227026       HS-grad                9   \n",
       "7   63  Self-emp-not-inc  104626   Prof-school               15   \n",
       "8   24           Private  369667  Some-college               10   \n",
       "9   55           Private  104996       7th-8th                4   \n",
       "\n",
       "       marital-status         occupation   relationship   race  gender  \\\n",
       "0       Never-married  Machine-op-inspct      Own-child  Black    Male   \n",
       "1  Married-civ-spouse    Farming-fishing        Husband  White    Male   \n",
       "2  Married-civ-spouse    Protective-serv        Husband  White    Male   \n",
       "3  Married-civ-spouse  Machine-op-inspct        Husband  Black    Male   \n",
       "4       Never-married                NaN      Own-child  White  Female   \n",
       "5       Never-married      Other-service  Not-in-family  White    Male   \n",
       "6       Never-married                NaN      Unmarried  Black    Male   \n",
       "7  Married-civ-spouse     Prof-specialty        Husband  White    Male   \n",
       "8       Never-married      Other-service      Unmarried  White  Female   \n",
       "9  Married-civ-spouse       Craft-repair        Husband  White    Male   \n",
       "\n",
       "   capital-gain  capital-loss  hours-per-week native-country income  \n",
       "0             0             0              40  United-States  <=50K  \n",
       "1             0             0              50  United-States  <=50K  \n",
       "2             0             0              40  United-States   >50K  \n",
       "3          7688             0              40  United-States   >50K  \n",
       "4             0             0              30  United-States  <=50K  \n",
       "5             0             0              30  United-States  <=50K  \n",
       "6             0             0              40  United-States  <=50K  \n",
       "7          3103             0              32  United-States   >50K  \n",
       "8             0             0              40  United-States  <=50K  \n",
       "9             0             0              10  United-States  <=50K  "
      ]
     },
     "execution_count": 4,
     "metadata": {},
     "output_type": "execute_result"
    }
   ],
   "source": [
    "# Looking at the head of the data\n",
    "data.head(10)"
   ]
  },
  {
   "cell_type": "code",
   "execution_count": 5,
   "id": "fedd355c",
   "metadata": {},
   "outputs": [
    {
     "data": {
      "text/html": [
       "<div>\n",
       "<style scoped>\n",
       "    .dataframe tbody tr th:only-of-type {\n",
       "        vertical-align: middle;\n",
       "    }\n",
       "\n",
       "    .dataframe tbody tr th {\n",
       "        vertical-align: top;\n",
       "    }\n",
       "\n",
       "    .dataframe thead th {\n",
       "        text-align: right;\n",
       "    }\n",
       "</style>\n",
       "<table border=\"1\" class=\"dataframe\">\n",
       "  <thead>\n",
       "    <tr style=\"text-align: right;\">\n",
       "      <th></th>\n",
       "      <th>age</th>\n",
       "      <th>workclass</th>\n",
       "      <th>fnlwgt</th>\n",
       "      <th>education</th>\n",
       "      <th>educational-num</th>\n",
       "      <th>marital-status</th>\n",
       "      <th>occupation</th>\n",
       "      <th>relationship</th>\n",
       "      <th>race</th>\n",
       "      <th>gender</th>\n",
       "      <th>capital-gain</th>\n",
       "      <th>capital-loss</th>\n",
       "      <th>hours-per-week</th>\n",
       "      <th>native-country</th>\n",
       "      <th>income</th>\n",
       "    </tr>\n",
       "  </thead>\n",
       "  <tbody>\n",
       "    <tr>\n",
       "      <th>48837</th>\n",
       "      <td>27</td>\n",
       "      <td>Private</td>\n",
       "      <td>257302</td>\n",
       "      <td>Assoc-acdm</td>\n",
       "      <td>12</td>\n",
       "      <td>Married-civ-spouse</td>\n",
       "      <td>Tech-support</td>\n",
       "      <td>Wife</td>\n",
       "      <td>White</td>\n",
       "      <td>Female</td>\n",
       "      <td>0</td>\n",
       "      <td>0</td>\n",
       "      <td>38</td>\n",
       "      <td>United-States</td>\n",
       "      <td>&lt;=50K</td>\n",
       "    </tr>\n",
       "    <tr>\n",
       "      <th>48838</th>\n",
       "      <td>40</td>\n",
       "      <td>Private</td>\n",
       "      <td>154374</td>\n",
       "      <td>HS-grad</td>\n",
       "      <td>9</td>\n",
       "      <td>Married-civ-spouse</td>\n",
       "      <td>Machine-op-inspct</td>\n",
       "      <td>Husband</td>\n",
       "      <td>White</td>\n",
       "      <td>Male</td>\n",
       "      <td>0</td>\n",
       "      <td>0</td>\n",
       "      <td>40</td>\n",
       "      <td>United-States</td>\n",
       "      <td>&gt;50K</td>\n",
       "    </tr>\n",
       "    <tr>\n",
       "      <th>48839</th>\n",
       "      <td>58</td>\n",
       "      <td>Private</td>\n",
       "      <td>151910</td>\n",
       "      <td>HS-grad</td>\n",
       "      <td>9</td>\n",
       "      <td>Widowed</td>\n",
       "      <td>Adm-clerical</td>\n",
       "      <td>Unmarried</td>\n",
       "      <td>White</td>\n",
       "      <td>Female</td>\n",
       "      <td>0</td>\n",
       "      <td>0</td>\n",
       "      <td>40</td>\n",
       "      <td>United-States</td>\n",
       "      <td>&lt;=50K</td>\n",
       "    </tr>\n",
       "    <tr>\n",
       "      <th>48840</th>\n",
       "      <td>22</td>\n",
       "      <td>Private</td>\n",
       "      <td>201490</td>\n",
       "      <td>HS-grad</td>\n",
       "      <td>9</td>\n",
       "      <td>Never-married</td>\n",
       "      <td>Adm-clerical</td>\n",
       "      <td>Own-child</td>\n",
       "      <td>White</td>\n",
       "      <td>Male</td>\n",
       "      <td>0</td>\n",
       "      <td>0</td>\n",
       "      <td>20</td>\n",
       "      <td>United-States</td>\n",
       "      <td>&lt;=50K</td>\n",
       "    </tr>\n",
       "    <tr>\n",
       "      <th>48841</th>\n",
       "      <td>52</td>\n",
       "      <td>Self-emp-inc</td>\n",
       "      <td>287927</td>\n",
       "      <td>HS-grad</td>\n",
       "      <td>9</td>\n",
       "      <td>Married-civ-spouse</td>\n",
       "      <td>Exec-managerial</td>\n",
       "      <td>Wife</td>\n",
       "      <td>White</td>\n",
       "      <td>Female</td>\n",
       "      <td>15024</td>\n",
       "      <td>0</td>\n",
       "      <td>40</td>\n",
       "      <td>United-States</td>\n",
       "      <td>&gt;50K</td>\n",
       "    </tr>\n",
       "  </tbody>\n",
       "</table>\n",
       "</div>"
      ],
      "text/plain": [
       "       age     workclass  fnlwgt   education  educational-num  \\\n",
       "48837   27       Private  257302  Assoc-acdm               12   \n",
       "48838   40       Private  154374     HS-grad                9   \n",
       "48839   58       Private  151910     HS-grad                9   \n",
       "48840   22       Private  201490     HS-grad                9   \n",
       "48841   52  Self-emp-inc  287927     HS-grad                9   \n",
       "\n",
       "           marital-status         occupation relationship   race  gender  \\\n",
       "48837  Married-civ-spouse       Tech-support         Wife  White  Female   \n",
       "48838  Married-civ-spouse  Machine-op-inspct      Husband  White    Male   \n",
       "48839             Widowed       Adm-clerical    Unmarried  White  Female   \n",
       "48840       Never-married       Adm-clerical    Own-child  White    Male   \n",
       "48841  Married-civ-spouse    Exec-managerial         Wife  White  Female   \n",
       "\n",
       "       capital-gain  capital-loss  hours-per-week native-country income  \n",
       "48837             0             0              38  United-States  <=50K  \n",
       "48838             0             0              40  United-States   >50K  \n",
       "48839             0             0              40  United-States  <=50K  \n",
       "48840             0             0              20  United-States  <=50K  \n",
       "48841         15024             0              40  United-States   >50K  "
      ]
     },
     "execution_count": 5,
     "metadata": {},
     "output_type": "execute_result"
    }
   ],
   "source": [
    "# Looking at the tail of the data\n",
    "data.tail(5)"
   ]
  },
  {
   "cell_type": "code",
   "execution_count": 6,
   "id": "4880ecf4",
   "metadata": {},
   "outputs": [
    {
     "data": {
      "text/html": [
       "<div>\n",
       "<style scoped>\n",
       "    .dataframe tbody tr th:only-of-type {\n",
       "        vertical-align: middle;\n",
       "    }\n",
       "\n",
       "    .dataframe tbody tr th {\n",
       "        vertical-align: top;\n",
       "    }\n",
       "\n",
       "    .dataframe thead th {\n",
       "        text-align: right;\n",
       "    }\n",
       "</style>\n",
       "<table border=\"1\" class=\"dataframe\">\n",
       "  <thead>\n",
       "    <tr style=\"text-align: right;\">\n",
       "      <th></th>\n",
       "      <th>count</th>\n",
       "      <th>unique</th>\n",
       "      <th>top</th>\n",
       "      <th>freq</th>\n",
       "      <th>mean</th>\n",
       "      <th>std</th>\n",
       "      <th>min</th>\n",
       "      <th>25%</th>\n",
       "      <th>50%</th>\n",
       "      <th>75%</th>\n",
       "      <th>max</th>\n",
       "    </tr>\n",
       "  </thead>\n",
       "  <tbody>\n",
       "    <tr>\n",
       "      <th>age</th>\n",
       "      <td>48842</td>\n",
       "      <td>NaN</td>\n",
       "      <td>NaN</td>\n",
       "      <td>NaN</td>\n",
       "      <td>38.6436</td>\n",
       "      <td>13.7105</td>\n",
       "      <td>17</td>\n",
       "      <td>28</td>\n",
       "      <td>37</td>\n",
       "      <td>48</td>\n",
       "      <td>90</td>\n",
       "    </tr>\n",
       "    <tr>\n",
       "      <th>workclass</th>\n",
       "      <td>46043</td>\n",
       "      <td>8</td>\n",
       "      <td>Private</td>\n",
       "      <td>33906</td>\n",
       "      <td>NaN</td>\n",
       "      <td>NaN</td>\n",
       "      <td>NaN</td>\n",
       "      <td>NaN</td>\n",
       "      <td>NaN</td>\n",
       "      <td>NaN</td>\n",
       "      <td>NaN</td>\n",
       "    </tr>\n",
       "    <tr>\n",
       "      <th>fnlwgt</th>\n",
       "      <td>48842</td>\n",
       "      <td>NaN</td>\n",
       "      <td>NaN</td>\n",
       "      <td>NaN</td>\n",
       "      <td>189664</td>\n",
       "      <td>105604</td>\n",
       "      <td>12285</td>\n",
       "      <td>117550</td>\n",
       "      <td>178144</td>\n",
       "      <td>237642</td>\n",
       "      <td>1.4904e+06</td>\n",
       "    </tr>\n",
       "    <tr>\n",
       "      <th>education</th>\n",
       "      <td>48842</td>\n",
       "      <td>16</td>\n",
       "      <td>HS-grad</td>\n",
       "      <td>15784</td>\n",
       "      <td>NaN</td>\n",
       "      <td>NaN</td>\n",
       "      <td>NaN</td>\n",
       "      <td>NaN</td>\n",
       "      <td>NaN</td>\n",
       "      <td>NaN</td>\n",
       "      <td>NaN</td>\n",
       "    </tr>\n",
       "    <tr>\n",
       "      <th>educational-num</th>\n",
       "      <td>48842</td>\n",
       "      <td>NaN</td>\n",
       "      <td>NaN</td>\n",
       "      <td>NaN</td>\n",
       "      <td>10.0781</td>\n",
       "      <td>2.57097</td>\n",
       "      <td>1</td>\n",
       "      <td>9</td>\n",
       "      <td>10</td>\n",
       "      <td>12</td>\n",
       "      <td>16</td>\n",
       "    </tr>\n",
       "    <tr>\n",
       "      <th>marital-status</th>\n",
       "      <td>48842</td>\n",
       "      <td>7</td>\n",
       "      <td>Married-civ-spouse</td>\n",
       "      <td>22379</td>\n",
       "      <td>NaN</td>\n",
       "      <td>NaN</td>\n",
       "      <td>NaN</td>\n",
       "      <td>NaN</td>\n",
       "      <td>NaN</td>\n",
       "      <td>NaN</td>\n",
       "      <td>NaN</td>\n",
       "    </tr>\n",
       "    <tr>\n",
       "      <th>occupation</th>\n",
       "      <td>46033</td>\n",
       "      <td>14</td>\n",
       "      <td>Prof-specialty</td>\n",
       "      <td>6172</td>\n",
       "      <td>NaN</td>\n",
       "      <td>NaN</td>\n",
       "      <td>NaN</td>\n",
       "      <td>NaN</td>\n",
       "      <td>NaN</td>\n",
       "      <td>NaN</td>\n",
       "      <td>NaN</td>\n",
       "    </tr>\n",
       "    <tr>\n",
       "      <th>relationship</th>\n",
       "      <td>48842</td>\n",
       "      <td>6</td>\n",
       "      <td>Husband</td>\n",
       "      <td>19716</td>\n",
       "      <td>NaN</td>\n",
       "      <td>NaN</td>\n",
       "      <td>NaN</td>\n",
       "      <td>NaN</td>\n",
       "      <td>NaN</td>\n",
       "      <td>NaN</td>\n",
       "      <td>NaN</td>\n",
       "    </tr>\n",
       "    <tr>\n",
       "      <th>race</th>\n",
       "      <td>48842</td>\n",
       "      <td>5</td>\n",
       "      <td>White</td>\n",
       "      <td>41762</td>\n",
       "      <td>NaN</td>\n",
       "      <td>NaN</td>\n",
       "      <td>NaN</td>\n",
       "      <td>NaN</td>\n",
       "      <td>NaN</td>\n",
       "      <td>NaN</td>\n",
       "      <td>NaN</td>\n",
       "    </tr>\n",
       "    <tr>\n",
       "      <th>gender</th>\n",
       "      <td>48842</td>\n",
       "      <td>2</td>\n",
       "      <td>Male</td>\n",
       "      <td>32650</td>\n",
       "      <td>NaN</td>\n",
       "      <td>NaN</td>\n",
       "      <td>NaN</td>\n",
       "      <td>NaN</td>\n",
       "      <td>NaN</td>\n",
       "      <td>NaN</td>\n",
       "      <td>NaN</td>\n",
       "    </tr>\n",
       "    <tr>\n",
       "      <th>capital-gain</th>\n",
       "      <td>48842</td>\n",
       "      <td>NaN</td>\n",
       "      <td>NaN</td>\n",
       "      <td>NaN</td>\n",
       "      <td>1079.07</td>\n",
       "      <td>7452.02</td>\n",
       "      <td>0</td>\n",
       "      <td>0</td>\n",
       "      <td>0</td>\n",
       "      <td>0</td>\n",
       "      <td>99999</td>\n",
       "    </tr>\n",
       "    <tr>\n",
       "      <th>capital-loss</th>\n",
       "      <td>48842</td>\n",
       "      <td>NaN</td>\n",
       "      <td>NaN</td>\n",
       "      <td>NaN</td>\n",
       "      <td>87.5023</td>\n",
       "      <td>403.005</td>\n",
       "      <td>0</td>\n",
       "      <td>0</td>\n",
       "      <td>0</td>\n",
       "      <td>0</td>\n",
       "      <td>4356</td>\n",
       "    </tr>\n",
       "    <tr>\n",
       "      <th>hours-per-week</th>\n",
       "      <td>48842</td>\n",
       "      <td>NaN</td>\n",
       "      <td>NaN</td>\n",
       "      <td>NaN</td>\n",
       "      <td>40.4224</td>\n",
       "      <td>12.3914</td>\n",
       "      <td>1</td>\n",
       "      <td>40</td>\n",
       "      <td>40</td>\n",
       "      <td>45</td>\n",
       "      <td>99</td>\n",
       "    </tr>\n",
       "    <tr>\n",
       "      <th>native-country</th>\n",
       "      <td>47985</td>\n",
       "      <td>41</td>\n",
       "      <td>United-States</td>\n",
       "      <td>43832</td>\n",
       "      <td>NaN</td>\n",
       "      <td>NaN</td>\n",
       "      <td>NaN</td>\n",
       "      <td>NaN</td>\n",
       "      <td>NaN</td>\n",
       "      <td>NaN</td>\n",
       "      <td>NaN</td>\n",
       "    </tr>\n",
       "    <tr>\n",
       "      <th>income</th>\n",
       "      <td>48842</td>\n",
       "      <td>2</td>\n",
       "      <td>&lt;=50K</td>\n",
       "      <td>37155</td>\n",
       "      <td>NaN</td>\n",
       "      <td>NaN</td>\n",
       "      <td>NaN</td>\n",
       "      <td>NaN</td>\n",
       "      <td>NaN</td>\n",
       "      <td>NaN</td>\n",
       "      <td>NaN</td>\n",
       "    </tr>\n",
       "  </tbody>\n",
       "</table>\n",
       "</div>"
      ],
      "text/plain": [
       "                 count unique                 top   freq     mean      std  \\\n",
       "age              48842    NaN                 NaN    NaN  38.6436  13.7105   \n",
       "workclass        46043      8             Private  33906      NaN      NaN   \n",
       "fnlwgt           48842    NaN                 NaN    NaN   189664   105604   \n",
       "education        48842     16             HS-grad  15784      NaN      NaN   \n",
       "educational-num  48842    NaN                 NaN    NaN  10.0781  2.57097   \n",
       "marital-status   48842      7  Married-civ-spouse  22379      NaN      NaN   \n",
       "occupation       46033     14      Prof-specialty   6172      NaN      NaN   \n",
       "relationship     48842      6             Husband  19716      NaN      NaN   \n",
       "race             48842      5               White  41762      NaN      NaN   \n",
       "gender           48842      2                Male  32650      NaN      NaN   \n",
       "capital-gain     48842    NaN                 NaN    NaN  1079.07  7452.02   \n",
       "capital-loss     48842    NaN                 NaN    NaN  87.5023  403.005   \n",
       "hours-per-week   48842    NaN                 NaN    NaN  40.4224  12.3914   \n",
       "native-country   47985     41       United-States  43832      NaN      NaN   \n",
       "income           48842      2               <=50K  37155      NaN      NaN   \n",
       "\n",
       "                   min     25%     50%     75%         max  \n",
       "age                 17      28      37      48          90  \n",
       "workclass          NaN     NaN     NaN     NaN         NaN  \n",
       "fnlwgt           12285  117550  178144  237642  1.4904e+06  \n",
       "education          NaN     NaN     NaN     NaN         NaN  \n",
       "educational-num      1       9      10      12          16  \n",
       "marital-status     NaN     NaN     NaN     NaN         NaN  \n",
       "occupation         NaN     NaN     NaN     NaN         NaN  \n",
       "relationship       NaN     NaN     NaN     NaN         NaN  \n",
       "race               NaN     NaN     NaN     NaN         NaN  \n",
       "gender             NaN     NaN     NaN     NaN         NaN  \n",
       "capital-gain         0       0       0       0       99999  \n",
       "capital-loss         0       0       0       0        4356  \n",
       "hours-per-week       1      40      40      45          99  \n",
       "native-country     NaN     NaN     NaN     NaN         NaN  \n",
       "income             NaN     NaN     NaN     NaN         NaN  "
      ]
     },
     "execution_count": 6,
     "metadata": {},
     "output_type": "execute_result"
    }
   ],
   "source": [
    "# Descriptive statistics\n",
    "data.describe(include='all').T"
   ]
  },
  {
   "cell_type": "code",
   "execution_count": 7,
   "id": "26e90a15",
   "metadata": {},
   "outputs": [
    {
     "data": {
      "text/plain": [
       "age                   74\n",
       "workclass              8\n",
       "fnlwgt             28523\n",
       "education             16\n",
       "educational-num       16\n",
       "marital-status         7\n",
       "occupation            14\n",
       "relationship           6\n",
       "race                   5\n",
       "gender                 2\n",
       "capital-gain         123\n",
       "capital-loss          99\n",
       "hours-per-week        96\n",
       "native-country        41\n",
       "income                 2\n",
       "dtype: int64"
      ]
     },
     "execution_count": 7,
     "metadata": {},
     "output_type": "execute_result"
    }
   ],
   "source": [
    "data.nunique()"
   ]
  },
  {
   "cell_type": "code",
   "execution_count": 8,
   "id": "56c93b24",
   "metadata": {},
   "outputs": [
    {
     "data": {
      "text/plain": [
       "age                   0\n",
       "workclass          2799\n",
       "fnlwgt                0\n",
       "education             0\n",
       "educational-num       0\n",
       "marital-status        0\n",
       "occupation         2809\n",
       "relationship          0\n",
       "race                  0\n",
       "gender                0\n",
       "capital-gain          0\n",
       "capital-loss          0\n",
       "hours-per-week        0\n",
       "native-country      857\n",
       "income                0\n",
       "dtype: int64"
      ]
     },
     "execution_count": 8,
     "metadata": {},
     "output_type": "execute_result"
    }
   ],
   "source": [
    "# Missing values in the data\n",
    "\n",
    "data.isnull().sum()"
   ]
  },
  {
   "cell_type": "code",
   "execution_count": 9,
   "id": "ccf9f280",
   "metadata": {},
   "outputs": [
    {
     "data": {
      "text/plain": [
       "age                 int64\n",
       "workclass          object\n",
       "fnlwgt              int64\n",
       "education          object\n",
       "educational-num     int64\n",
       "marital-status     object\n",
       "occupation         object\n",
       "relationship       object\n",
       "race               object\n",
       "gender             object\n",
       "capital-gain        int64\n",
       "capital-loss        int64\n",
       "hours-per-week      int64\n",
       "native-country     object\n",
       "income             object\n",
       "dtype: object"
      ]
     },
     "execution_count": 9,
     "metadata": {},
     "output_type": "execute_result"
    }
   ],
   "source": [
    "data.dtypes"
   ]
  },
  {
   "cell_type": "markdown",
   "id": "bb489e25",
   "metadata": {},
   "source": [
    "Imputing values with most_frequent"
   ]
  },
  {
   "cell_type": "code",
   "execution_count": 10,
   "id": "98ed8b4a",
   "metadata": {},
   "outputs": [],
   "source": [
    "# Imputing the missing values\n",
    "imputer = SimpleImputer(strategy='most_frequent')\n",
    "imputer = imputer.fit(data[['workclass','occupation','native-country']])\n",
    "\n",
    "data[['workclass','occupation','native-country']] = imputer.transform(data[['workclass','occupation','native-country']])"
   ]
  },
  {
   "cell_type": "code",
   "execution_count": 11,
   "id": "d13edf6a",
   "metadata": {},
   "outputs": [
    {
     "data": {
      "text/plain": [
       "age                0\n",
       "workclass          0\n",
       "fnlwgt             0\n",
       "education          0\n",
       "educational-num    0\n",
       "marital-status     0\n",
       "occupation         0\n",
       "relationship       0\n",
       "race               0\n",
       "gender             0\n",
       "capital-gain       0\n",
       "capital-loss       0\n",
       "hours-per-week     0\n",
       "native-country     0\n",
       "income             0\n",
       "dtype: int64"
      ]
     },
     "execution_count": 11,
     "metadata": {},
     "output_type": "execute_result"
    }
   ],
   "source": [
    "data.isnull().sum()"
   ]
  },
  {
   "cell_type": "code",
   "execution_count": 12,
   "id": "033dac64",
   "metadata": {},
   "outputs": [
    {
     "data": {
      "text/html": [
       "<div>\n",
       "<style scoped>\n",
       "    .dataframe tbody tr th:only-of-type {\n",
       "        vertical-align: middle;\n",
       "    }\n",
       "\n",
       "    .dataframe tbody tr th {\n",
       "        vertical-align: top;\n",
       "    }\n",
       "\n",
       "    .dataframe thead th {\n",
       "        text-align: right;\n",
       "    }\n",
       "</style>\n",
       "<table border=\"1\" class=\"dataframe\">\n",
       "  <thead>\n",
       "    <tr style=\"text-align: right;\">\n",
       "      <th></th>\n",
       "      <th>age</th>\n",
       "      <th>workclass</th>\n",
       "      <th>fnlwgt</th>\n",
       "      <th>education</th>\n",
       "      <th>educational-num</th>\n",
       "      <th>marital-status</th>\n",
       "      <th>occupation</th>\n",
       "      <th>relationship</th>\n",
       "      <th>race</th>\n",
       "      <th>gender</th>\n",
       "      <th>capital-gain</th>\n",
       "      <th>capital-loss</th>\n",
       "      <th>hours-per-week</th>\n",
       "      <th>native-country</th>\n",
       "      <th>income</th>\n",
       "    </tr>\n",
       "  </thead>\n",
       "  <tbody>\n",
       "    <tr>\n",
       "      <th>0</th>\n",
       "      <td>25</td>\n",
       "      <td>Private</td>\n",
       "      <td>226802</td>\n",
       "      <td>11th</td>\n",
       "      <td>7</td>\n",
       "      <td>Never-married</td>\n",
       "      <td>Machine-op-inspct</td>\n",
       "      <td>Own-child</td>\n",
       "      <td>Black</td>\n",
       "      <td>Male</td>\n",
       "      <td>0</td>\n",
       "      <td>0</td>\n",
       "      <td>40</td>\n",
       "      <td>United-States</td>\n",
       "      <td>&lt;=50K</td>\n",
       "    </tr>\n",
       "    <tr>\n",
       "      <th>1</th>\n",
       "      <td>38</td>\n",
       "      <td>Private</td>\n",
       "      <td>89814</td>\n",
       "      <td>HS-grad</td>\n",
       "      <td>9</td>\n",
       "      <td>Married-civ-spouse</td>\n",
       "      <td>Farming-fishing</td>\n",
       "      <td>Husband</td>\n",
       "      <td>White</td>\n",
       "      <td>Male</td>\n",
       "      <td>0</td>\n",
       "      <td>0</td>\n",
       "      <td>50</td>\n",
       "      <td>United-States</td>\n",
       "      <td>&lt;=50K</td>\n",
       "    </tr>\n",
       "    <tr>\n",
       "      <th>2</th>\n",
       "      <td>28</td>\n",
       "      <td>Local-gov</td>\n",
       "      <td>336951</td>\n",
       "      <td>Assoc-acdm</td>\n",
       "      <td>12</td>\n",
       "      <td>Married-civ-spouse</td>\n",
       "      <td>Protective-serv</td>\n",
       "      <td>Husband</td>\n",
       "      <td>White</td>\n",
       "      <td>Male</td>\n",
       "      <td>0</td>\n",
       "      <td>0</td>\n",
       "      <td>40</td>\n",
       "      <td>United-States</td>\n",
       "      <td>&gt;50K</td>\n",
       "    </tr>\n",
       "    <tr>\n",
       "      <th>3</th>\n",
       "      <td>44</td>\n",
       "      <td>Private</td>\n",
       "      <td>160323</td>\n",
       "      <td>Some-college</td>\n",
       "      <td>10</td>\n",
       "      <td>Married-civ-spouse</td>\n",
       "      <td>Machine-op-inspct</td>\n",
       "      <td>Husband</td>\n",
       "      <td>Black</td>\n",
       "      <td>Male</td>\n",
       "      <td>7688</td>\n",
       "      <td>0</td>\n",
       "      <td>40</td>\n",
       "      <td>United-States</td>\n",
       "      <td>&gt;50K</td>\n",
       "    </tr>\n",
       "    <tr>\n",
       "      <th>4</th>\n",
       "      <td>18</td>\n",
       "      <td>Private</td>\n",
       "      <td>103497</td>\n",
       "      <td>Some-college</td>\n",
       "      <td>10</td>\n",
       "      <td>Never-married</td>\n",
       "      <td>Prof-specialty</td>\n",
       "      <td>Own-child</td>\n",
       "      <td>White</td>\n",
       "      <td>Female</td>\n",
       "      <td>0</td>\n",
       "      <td>0</td>\n",
       "      <td>30</td>\n",
       "      <td>United-States</td>\n",
       "      <td>&lt;=50K</td>\n",
       "    </tr>\n",
       "  </tbody>\n",
       "</table>\n",
       "</div>"
      ],
      "text/plain": [
       "   age  workclass  fnlwgt     education  educational-num      marital-status  \\\n",
       "0   25    Private  226802          11th                7       Never-married   \n",
       "1   38    Private   89814       HS-grad                9  Married-civ-spouse   \n",
       "2   28  Local-gov  336951    Assoc-acdm               12  Married-civ-spouse   \n",
       "3   44    Private  160323  Some-college               10  Married-civ-spouse   \n",
       "4   18    Private  103497  Some-college               10       Never-married   \n",
       "\n",
       "          occupation relationship   race  gender  capital-gain  capital-loss  \\\n",
       "0  Machine-op-inspct    Own-child  Black    Male             0             0   \n",
       "1    Farming-fishing      Husband  White    Male             0             0   \n",
       "2    Protective-serv      Husband  White    Male             0             0   \n",
       "3  Machine-op-inspct      Husband  Black    Male          7688             0   \n",
       "4     Prof-specialty    Own-child  White  Female             0             0   \n",
       "\n",
       "   hours-per-week native-country income  \n",
       "0              40  United-States  <=50K  \n",
       "1              50  United-States  <=50K  \n",
       "2              40  United-States   >50K  \n",
       "3              40  United-States   >50K  \n",
       "4              30  United-States  <=50K  "
      ]
     },
     "execution_count": 12,
     "metadata": {},
     "output_type": "execute_result"
    }
   ],
   "source": [
    "data.head(5)"
   ]
  },
  {
   "cell_type": "markdown",
   "id": "89158280",
   "metadata": {},
   "source": [
    "education and educational-num contain the same information so we can drop one \n",
    "of those columns."
   ]
  },
  {
   "cell_type": "code",
   "execution_count": 13,
   "id": "8ef2f951",
   "metadata": {},
   "outputs": [],
   "source": [
    "data.drop('educational-num',axis=1,inplace=True)"
   ]
  },
  {
   "cell_type": "markdown",
   "id": "573fe700",
   "metadata": {},
   "source": [
    "As Income variable(Target variable) contains only 2 levels and it has the information as <=50K and >50K so we \n",
    "need to replace the information inside the variable."
   ]
  },
  {
   "cell_type": "code",
   "execution_count": 14,
   "id": "7eb01dcf",
   "metadata": {},
   "outputs": [],
   "source": [
    "data['income'] = data['income'].replace(['<=50K','>50K'],['0','1']).astype(int)"
   ]
  },
  {
   "cell_type": "code",
   "execution_count": 15,
   "id": "78901405",
   "metadata": {},
   "outputs": [
    {
     "data": {
      "text/plain": [
       "age                int64\n",
       "workclass         object\n",
       "fnlwgt             int64\n",
       "education         object\n",
       "marital-status    object\n",
       "occupation        object\n",
       "relationship      object\n",
       "race              object\n",
       "gender            object\n",
       "capital-gain       int64\n",
       "capital-loss       int64\n",
       "hours-per-week     int64\n",
       "native-country    object\n",
       "income             int32\n",
       "dtype: object"
      ]
     },
     "execution_count": 15,
     "metadata": {},
     "output_type": "execute_result"
    }
   ],
   "source": [
    "data.dtypes"
   ]
  },
  {
   "cell_type": "markdown",
   "id": "10bf5617",
   "metadata": {},
   "source": [
    "# Feature Engineering"
   ]
  },
  {
   "cell_type": "markdown",
   "id": "81fe85c9",
   "metadata": {},
   "source": [
    "Education column"
   ]
  },
  {
   "cell_type": "code",
   "execution_count": 16,
   "id": "6b5a1da1",
   "metadata": {},
   "outputs": [
    {
     "data": {
      "text/plain": [
       "HS-grad              20398\n",
       "Some-college         10878\n",
       "Bachelors             8025\n",
       "Masters               2657\n",
       "Assoc-voc             2061\n",
       "elementary_school     1711\n",
       "Assoc-acdm            1601\n",
       "Prof-school            834\n",
       "Doctorate              594\n",
       "Preschool               83\n",
       "Name: education, dtype: int64"
      ]
     },
     "execution_count": 16,
     "metadata": {},
     "output_type": "execute_result"
    }
   ],
   "source": [
    "hs_grad = ['HS-grad','11th','10th','9th','12th']\n",
    "elementary = ['1st-4th','5th-6th','7th-8th']\n",
    "\n",
    "# replace elements in list.\n",
    "data['education'].replace(to_replace = hs_grad,value = 'HS-grad',inplace = True)\n",
    "data['education'].replace(to_replace = elementary,value = 'elementary_school',inplace = True)\n",
    "\n",
    "data['education'].value_counts()"
   ]
  },
  {
   "cell_type": "markdown",
   "id": "032185b0",
   "metadata": {},
   "source": [
    "Marital-status column"
   ]
  },
  {
   "cell_type": "code",
   "execution_count": 17,
   "id": "f4e4bcd9",
   "metadata": {},
   "outputs": [
    {
     "data": {
      "text/plain": [
       "Married          23044\n",
       "Never-married    16117\n",
       "Separated         8163\n",
       "Widowed           1518\n",
       "Name: marital-status, dtype: int64"
      ]
     },
     "execution_count": 17,
     "metadata": {},
     "output_type": "execute_result"
    }
   ],
   "source": [
    "married= ['Married-spouse-absent','Married-civ-spouse','Married-AF-spouse']\n",
    "separated = ['Separated','Divorced']\n",
    "\n",
    "#replace elements in list.\n",
    "data['marital-status'].replace(to_replace = married ,value = 'Married',inplace = True)\n",
    "data['marital-status'].replace(to_replace = separated,value = 'Separated',inplace = True)\n",
    "\n",
    "data['marital-status'].value_counts()"
   ]
  },
  {
   "cell_type": "markdown",
   "id": "5c51030f",
   "metadata": {},
   "source": [
    "Work-class column"
   ]
  },
  {
   "cell_type": "code",
   "execution_count": 18,
   "id": "285d9ac3",
   "metadata": {},
   "outputs": [
    {
     "data": {
      "text/plain": [
       "Private           36705\n",
       "Govt_employees     6549\n",
       "Self_employed      5557\n",
       "Without-pay          21\n",
       "Never-worked         10\n",
       "Name: workclass, dtype: int64"
      ]
     },
     "execution_count": 18,
     "metadata": {},
     "output_type": "execute_result"
    }
   ],
   "source": [
    "self_employed = ['Self-emp-not-inc','Self-emp-inc']\n",
    "govt_employees = ['Local-gov','State-gov','Federal-gov']\n",
    "\n",
    "#replace elements in list.\n",
    "data['workclass'].replace(to_replace = self_employed ,value = 'Self_employed',inplace = True)\n",
    "data['workclass'].replace(to_replace = govt_employees,value = 'Govt_employees',inplace = True)\n",
    "\n",
    "data['workclass'].value_counts()"
   ]
  },
  {
   "cell_type": "code",
   "execution_count": 19,
   "id": "66b5606e",
   "metadata": {},
   "outputs": [],
   "source": [
    "data.drop('relationship',axis=1,inplace=True)"
   ]
  },
  {
   "cell_type": "markdown",
   "id": "6d5793a6",
   "metadata": {},
   "source": [
    "Dropping rows with age 90"
   ]
  },
  {
   "cell_type": "code",
   "execution_count": 20,
   "id": "52f3acdb",
   "metadata": {},
   "outputs": [
    {
     "name": "stdout",
     "output_type": "stream",
     "text": [
      "Number of observation before removing: (48842, 13)\n",
      "Number of observation after removing: (48787, 13)\n"
     ]
    }
   ],
   "source": [
    "print(\"Number of observation before removing:\",data.shape)\n",
    "index_age = data[data['age'] == 90].index\n",
    "data.drop(labels = index_age,axis = 0,inplace =True)\n",
    "print(\"Number of observation after removing:\",data.shape)"
   ]
  },
  {
   "cell_type": "code",
   "execution_count": 21,
   "id": "20aca330",
   "metadata": {},
   "outputs": [
    {
     "name": "stdout",
     "output_type": "stream",
     "text": [
      "Number of observation before removing: (48787, 13)\n",
      "Number of observation after removing: (48543, 13)\n"
     ]
    }
   ],
   "source": [
    "print(\"Number of observation before removing:\",data.shape)\n",
    "index_gain = data[data['capital-gain'] == 99999].index\n",
    "data.drop(labels = index_gain,axis = 0,inplace =True)\n",
    "print(\"Number of observation after removing:\",data.shape)"
   ]
  },
  {
   "cell_type": "markdown",
   "id": "191724c1",
   "metadata": {},
   "source": [
    "Updating the columns"
   ]
  },
  {
   "cell_type": "code",
   "execution_count": 22,
   "id": "f5ee5127",
   "metadata": {},
   "outputs": [],
   "source": [
    "num_col_new = ['age','capital-gain', 'capital-loss',\n",
    "       'hours-per-week','fnlwgt']\n",
    "cat_col_new = ['workclass', 'education', 'marital-status', 'occupation',\n",
    "               'race', 'gender', 'income']"
   ]
  },
  {
   "cell_type": "markdown",
   "id": "31e6f6ec",
   "metadata": {},
   "source": [
    "Mapping the values to numerical columns"
   ]
  },
  {
   "cell_type": "code",
   "execution_count": 23,
   "id": "0b41126f",
   "metadata": {},
   "outputs": [
    {
     "name": "stdout",
     "output_type": "stream",
     "text": [
      "{'Male', 'Female'}\n"
     ]
    }
   ],
   "source": [
    "gender = set(data['gender'])\n",
    "print(gender)"
   ]
  },
  {
   "cell_type": "code",
   "execution_count": 24,
   "id": "e01065fd",
   "metadata": {},
   "outputs": [],
   "source": [
    "data=data.dropna(axis=0, how='any')"
   ]
  },
  {
   "cell_type": "code",
   "execution_count": 25,
   "id": "54845804",
   "metadata": {},
   "outputs": [],
   "source": [
    "data['gender'] = data['gender'].map({'Male': 0, 'Female': 1}).astype(int)"
   ]
  },
  {
   "cell_type": "markdown",
   "id": "d96397d8",
   "metadata": {},
   "source": [
    "Unique races in 'Race' column"
   ]
  },
  {
   "cell_type": "code",
   "execution_count": 26,
   "id": "8db4b809",
   "metadata": {},
   "outputs": [
    {
     "name": "stdout",
     "output_type": "stream",
     "text": [
      "{'Other', 'Asian-Pac-Islander', 'Black', 'Amer-Indian-Eskimo', 'White'}\n"
     ]
    }
   ],
   "source": [
    "race = set(data['race'])\n",
    "print(race)"
   ]
  },
  {
   "cell_type": "code",
   "execution_count": 27,
   "id": "40d23d51",
   "metadata": {},
   "outputs": [],
   "source": [
    "# Mapping the values to numerical column\n",
    "data['race'] = data['race'].map({'Black': 0, 'Asian-Pac-Islander': 1, 'Other': 2, 'White': 3, \n",
    "                                             'Amer-Indian-Eskimo': 4}).astype(int)"
   ]
  },
  {
   "cell_type": "markdown",
   "id": "5561c6e0",
   "metadata": {},
   "source": [
    "Unique values in marital-status column"
   ]
  },
  {
   "cell_type": "code",
   "execution_count": 28,
   "id": "9e2cf1f9",
   "metadata": {},
   "outputs": [
    {
     "name": "stdout",
     "output_type": "stream",
     "text": [
      "{'Widowed', 'Married', 'Separated', 'Never-married'}\n"
     ]
    }
   ],
   "source": [
    "Marital = set(data['marital-status'])\n",
    "print(Marital)"
   ]
  },
  {
   "cell_type": "markdown",
   "id": "d414cfb0",
   "metadata": {},
   "source": [
    "Mapping values to numeric values"
   ]
  },
  {
   "cell_type": "code",
   "execution_count": 29,
   "id": "60064ab1",
   "metadata": {},
   "outputs": [],
   "source": [
    " data['marital-status'] = data['marital-status'].map({'Married-spouse-absent': 0, 'Widowed': 1, \n",
    "                                                             'Married': 2, 'Separated': 3, \n",
    "                                                             'Never-married': 5}).astype(int)"
   ]
  },
  {
   "cell_type": "markdown",
   "id": "8b8a4c5d",
   "metadata": {},
   "source": [
    "Unique values in Workclass column"
   ]
  },
  {
   "cell_type": "code",
   "execution_count": 30,
   "id": "2edf7436",
   "metadata": {},
   "outputs": [
    {
     "name": "stdout",
     "output_type": "stream",
     "text": [
      "{'Private', 'Govt_employees', 'Never-worked', 'Self_employed', 'Without-pay'}\n"
     ]
    }
   ],
   "source": [
    "emp = set(data['workclass'])\n",
    "print(emp)"
   ]
  },
  {
   "cell_type": "markdown",
   "id": "97341a36",
   "metadata": {},
   "source": [
    "Mapping values"
   ]
  },
  {
   "cell_type": "code",
   "execution_count": 31,
   "id": "1f4e43bc",
   "metadata": {},
   "outputs": [],
   "source": [
    "data=data.dropna(axis=0, how='any')"
   ]
  },
  {
   "cell_type": "code",
   "execution_count": 32,
   "id": "ff6aba69",
   "metadata": {},
   "outputs": [],
   "source": [
    "data['workclass'] = data['workclass'].map({'Private': 0, 'Govt_employees': 1, 'Self_employed': 2, 'Without-pay': 3}).astype(int,errors='ignore')"
   ]
  },
  {
   "cell_type": "markdown",
   "id": "83133e3c",
   "metadata": {},
   "source": [
    "Unique values in Education column"
   ]
  },
  {
   "cell_type": "code",
   "execution_count": 33,
   "id": "42c739de",
   "metadata": {},
   "outputs": [
    {
     "name": "stdout",
     "output_type": "stream",
     "text": [
      "{'HS-grad', 'Doctorate', 'Masters', 'Some-college', 'Assoc-voc', 'elementary_school', 'Bachelors', 'Assoc-acdm', 'Prof-school', 'Preschool'}\n"
     ]
    }
   ],
   "source": [
    "education = set(data['education'])\n",
    "print(education)"
   ]
  },
  {
   "cell_type": "markdown",
   "id": "a03c662d",
   "metadata": {},
   "source": [
    "Mapping values to numeric values"
   ]
  },
  {
   "cell_type": "code",
   "execution_count": 34,
   "id": "45a86db1",
   "metadata": {},
   "outputs": [],
   "source": [
    "data['education'] = data['education'].map({'Doctorate': 0, 'HS-grad': 1, \n",
    "                                                        'Some-college': 2, 'elementary_school': 3, 'Assoc-acdm': 4, \n",
    "                                                        'Prof-school': 5, 'Preschool': 6, 'Assoc-voc': 7,\n",
    "                                                        'Masters': 8, 'Bachelors': 9}).astype(int)"
   ]
  },
  {
   "cell_type": "markdown",
   "id": "dda0041b",
   "metadata": {},
   "source": [
    "Unique values in occupation column"
   ]
  },
  {
   "cell_type": "code",
   "execution_count": 35,
   "id": "647d56be",
   "metadata": {},
   "outputs": [
    {
     "name": "stdout",
     "output_type": "stream",
     "text": [
      "{'Other-service', 'Exec-managerial', 'Priv-house-serv', 'Prof-specialty', 'Transport-moving', 'Handlers-cleaners', 'Tech-support', 'Armed-Forces', 'Protective-serv', 'Craft-repair', 'Sales', 'Adm-clerical', 'Farming-fishing', 'Machine-op-inspct'}\n"
     ]
    }
   ],
   "source": [
    "occupation = set(data['occupation'])\n",
    "print(occupation)"
   ]
  },
  {
   "cell_type": "markdown",
   "id": "79883b08",
   "metadata": {},
   "source": [
    "Mapping values to numeric values"
   ]
  },
  {
   "cell_type": "code",
   "execution_count": 36,
   "id": "435a0330",
   "metadata": {},
   "outputs": [],
   "source": [
    "data['occupation'] = data['occupation'].map({ 'Farming-fishing': 1, 'Tech-support': 2, 'Adm-clerical': 3, 'Handlers-cleaners': 4, \n",
    "                                         'Prof-specialty': 5,'Machine-op-inspct': 6, 'Exec-managerial': 7, \n",
    "                                         'Priv-house-serv': 8,'Craft-repair': 9, 'Sales': 10, 'Transport-moving': 11, \n",
    "                                          'Armed-Forces': 12, 'Other-service': 13,  'Protective-serv': 14}).astype(int)"
   ]
  },
  {
   "cell_type": "markdown",
   "id": "a18624b3",
   "metadata": {},
   "source": [
    "Replacing values in native-country column"
   ]
  },
  {
   "cell_type": "code",
   "execution_count": 37,
   "id": "ee365e13",
   "metadata": {},
   "outputs": [],
   "source": [
    "NorthAmerica_1 = ['United-States','Mexico','Puerto-Rico','Canada','El-Salvador','Cuba','Jamaica','Dominican-Republic','Guatemala','Haiti','Nicaragua','Honduras']\n",
    "Asia_1 = ['Philippines','India','China','Japan','Vietnam','Iran','Taiwan','Thailand','Hong','Cambodia','Laos']\n",
    "Europe_1 = ['Germany','England','Italy','Poland','Portugal','Greece','Ireland','France','Yugoslavia','Scotland','Hungary','Holand-Netherlands']\n",
    "Africa_1 = ['South']\n",
    "SouthAmerica_1 = ['Columbia','Peru','Ecuador','Trinadad&Tobago']\n",
    "Oceania_1 = ['Outlying-US(Guam-USVI-etc)']"
   ]
  },
  {
   "cell_type": "code",
   "execution_count": 38,
   "id": "f7641d35",
   "metadata": {},
   "outputs": [
    {
     "data": {
      "text/plain": [
       "NA         46457\n",
       "Asia         970\n",
       "Europe       779\n",
       "SA           202\n",
       "Africa       112\n",
       "Oceania       23\n",
       "Name: native-country, dtype: int64"
      ]
     },
     "execution_count": 38,
     "metadata": {},
     "output_type": "execute_result"
    }
   ],
   "source": [
    "data['native-country'].replace(to_replace = NorthAmerica_1,value = 'NA',inplace = True)\n",
    "data['native-country'].replace(to_replace = Asia_1,value = 'Asia',inplace = True)\n",
    "data['native-country'].replace(to_replace = Europe_1,value = 'Europe',inplace = True)\n",
    "data['native-country'].replace(to_replace = Africa_1,value = 'Africa',inplace = True)\n",
    "data['native-country'].replace(to_replace = SouthAmerica_1,value = 'SA',inplace = True)\n",
    "data['native-country'].replace(to_replace = Oceania_1,value = 'Oceania',inplace = True)\n",
    "data['native-country'].value_counts()"
   ]
  },
  {
   "cell_type": "code",
   "execution_count": 39,
   "id": "cbc4a3aa",
   "metadata": {},
   "outputs": [],
   "source": [
    "data['native-country'] = data['native-country'].map({'NA': 0, 'SA': 1,'Asia': 2, 'Europe': 3, 'Africa': 4, 'Oceania':5})"
   ]
  },
  {
   "cell_type": "code",
   "execution_count": 40,
   "id": "0eb537fd",
   "metadata": {},
   "outputs": [
    {
     "data": {
      "text/html": [
       "<div>\n",
       "<style scoped>\n",
       "    .dataframe tbody tr th:only-of-type {\n",
       "        vertical-align: middle;\n",
       "    }\n",
       "\n",
       "    .dataframe tbody tr th {\n",
       "        vertical-align: top;\n",
       "    }\n",
       "\n",
       "    .dataframe thead th {\n",
       "        text-align: right;\n",
       "    }\n",
       "</style>\n",
       "<table border=\"1\" class=\"dataframe\">\n",
       "  <thead>\n",
       "    <tr style=\"text-align: right;\">\n",
       "      <th></th>\n",
       "      <th>age</th>\n",
       "      <th>workclass</th>\n",
       "      <th>fnlwgt</th>\n",
       "      <th>education</th>\n",
       "      <th>marital-status</th>\n",
       "      <th>occupation</th>\n",
       "      <th>race</th>\n",
       "      <th>gender</th>\n",
       "      <th>capital-gain</th>\n",
       "      <th>capital-loss</th>\n",
       "      <th>hours-per-week</th>\n",
       "      <th>native-country</th>\n",
       "      <th>income</th>\n",
       "    </tr>\n",
       "  </thead>\n",
       "  <tbody>\n",
       "    <tr>\n",
       "      <th>0</th>\n",
       "      <td>25</td>\n",
       "      <td>0.0</td>\n",
       "      <td>226802</td>\n",
       "      <td>1</td>\n",
       "      <td>5</td>\n",
       "      <td>6</td>\n",
       "      <td>0</td>\n",
       "      <td>0</td>\n",
       "      <td>0</td>\n",
       "      <td>0</td>\n",
       "      <td>40</td>\n",
       "      <td>0</td>\n",
       "      <td>0</td>\n",
       "    </tr>\n",
       "    <tr>\n",
       "      <th>1</th>\n",
       "      <td>38</td>\n",
       "      <td>0.0</td>\n",
       "      <td>89814</td>\n",
       "      <td>1</td>\n",
       "      <td>2</td>\n",
       "      <td>1</td>\n",
       "      <td>3</td>\n",
       "      <td>0</td>\n",
       "      <td>0</td>\n",
       "      <td>0</td>\n",
       "      <td>50</td>\n",
       "      <td>0</td>\n",
       "      <td>0</td>\n",
       "    </tr>\n",
       "    <tr>\n",
       "      <th>2</th>\n",
       "      <td>28</td>\n",
       "      <td>1.0</td>\n",
       "      <td>336951</td>\n",
       "      <td>4</td>\n",
       "      <td>2</td>\n",
       "      <td>14</td>\n",
       "      <td>3</td>\n",
       "      <td>0</td>\n",
       "      <td>0</td>\n",
       "      <td>0</td>\n",
       "      <td>40</td>\n",
       "      <td>0</td>\n",
       "      <td>1</td>\n",
       "    </tr>\n",
       "    <tr>\n",
       "      <th>3</th>\n",
       "      <td>44</td>\n",
       "      <td>0.0</td>\n",
       "      <td>160323</td>\n",
       "      <td>2</td>\n",
       "      <td>2</td>\n",
       "      <td>6</td>\n",
       "      <td>0</td>\n",
       "      <td>0</td>\n",
       "      <td>7688</td>\n",
       "      <td>0</td>\n",
       "      <td>40</td>\n",
       "      <td>0</td>\n",
       "      <td>1</td>\n",
       "    </tr>\n",
       "    <tr>\n",
       "      <th>4</th>\n",
       "      <td>18</td>\n",
       "      <td>0.0</td>\n",
       "      <td>103497</td>\n",
       "      <td>2</td>\n",
       "      <td>5</td>\n",
       "      <td>5</td>\n",
       "      <td>3</td>\n",
       "      <td>1</td>\n",
       "      <td>0</td>\n",
       "      <td>0</td>\n",
       "      <td>30</td>\n",
       "      <td>0</td>\n",
       "      <td>0</td>\n",
       "    </tr>\n",
       "  </tbody>\n",
       "</table>\n",
       "</div>"
      ],
      "text/plain": [
       "   age  workclass  fnlwgt  education  marital-status  occupation  race  \\\n",
       "0   25        0.0  226802          1               5           6     0   \n",
       "1   38        0.0   89814          1               2           1     3   \n",
       "2   28        1.0  336951          4               2          14     3   \n",
       "3   44        0.0  160323          2               2           6     0   \n",
       "4   18        0.0  103497          2               5           5     3   \n",
       "\n",
       "   gender  capital-gain  capital-loss  hours-per-week  native-country  income  \n",
       "0       0             0             0              40               0       0  \n",
       "1       0             0             0              50               0       0  \n",
       "2       0             0             0              40               0       1  \n",
       "3       0          7688             0              40               0       1  \n",
       "4       1             0             0              30               0       0  "
      ]
     },
     "execution_count": 40,
     "metadata": {},
     "output_type": "execute_result"
    }
   ],
   "source": [
    "data.head()"
   ]
  },
  {
   "cell_type": "markdown",
   "id": "9a608759",
   "metadata": {},
   "source": [
    "# Step - 3 - Univariate Analysis \n",
    "PDF, Histograms, Boxplots, Countplots, etc.. \n",
    "Understand the probability and frequency distribution of each numerical column \n",
    "Understand the frequency distribution \n",
    "of each categorical Variable/Column Mention observations after each plot."
   ]
  },
  {
   "cell_type": "code",
   "execution_count": 41,
   "id": "1772f2b9",
   "metadata": {},
   "outputs": [],
   "source": [
    "def barplot(column,data):\n",
    "    bar_plot1 = sns.countplot(x=column, data=data)\n",
    "    \n",
    "    total = len(data[column])\n",
    "    for p in bar_plot1.patches:\n",
    "        percentage = '{:.2f}%'.format(100 * p.get_height()/total)\n",
    "        height = p.get_height()\n",
    "        bar_plot1.text(p.get_x()+ p.get_width()/2, height + 30, percentage, ha=\"center\")"
   ]
  },
  {
   "cell_type": "code",
   "execution_count": 42,
   "id": "98d383f8",
   "metadata": {},
   "outputs": [
    {
     "data": {
      "image/png": "[encoded data removed]",
      "text/plain": [
       "<Figure size 432x288 with 1 Axes>"
      ]
     },
     "metadata": {
      "needs_background": "light"
     },
     "output_type": "display_data"
    }
   ],
   "source": [
    "barplot(\"workclass\",data)"
   ]
  },
  {
   "cell_type": "code",
   "execution_count": 43,
   "id": "f00561c0",
   "metadata": {},
   "outputs": [
    {
     "data": {
      "image/png": "[encoded data removed]",
      "text/plain": [
       "<Figure size 432x288 with 1 Axes>"
      ]
     },
     "metadata": {
      "needs_background": "light"
     },
     "output_type": "display_data"
    }
   ],
   "source": [
    "barplot(\"education\",data)"
   ]
  },
  {
   "cell_type": "code",
   "execution_count": 44,
   "id": "a905d302",
   "metadata": {},
   "outputs": [
    {
     "data": {
      "image/png": "[encoded data removed]",
      "text/plain": [
       "<Figure size 432x288 with 1 Axes>"
      ]
     },
     "metadata": {
      "needs_background": "light"
     },
     "output_type": "display_data"
    }
   ],
   "source": [
    "barplot(\"marital-status\",data)"
   ]
  },
  {
   "cell_type": "code",
   "execution_count": 45,
   "id": "3f236ec8",
   "metadata": {},
   "outputs": [
    {
     "data": {
      "image/png": "[encoded data removed]",
      "text/plain": [
       "<Figure size 432x288 with 1 Axes>"
      ]
     },
     "metadata": {
      "needs_background": "light"
     },
     "output_type": "display_data"
    }
   ],
   "source": [
    "barplot(\"occupation\",data)"
   ]
  },
  {
   "cell_type": "code",
   "execution_count": 46,
   "id": "4acedc24",
   "metadata": {},
   "outputs": [
    {
     "data": {
      "image/png": "[encoded data removed]",
      "text/plain": [
       "<Figure size 432x288 with 1 Axes>"
      ]
     },
     "metadata": {
      "needs_background": "light"
     },
     "output_type": "display_data"
    }
   ],
   "source": [
    "barplot(\"race\",data)"
   ]
  },
  {
   "cell_type": "code",
   "execution_count": 47,
   "id": "169103ae",
   "metadata": {},
   "outputs": [
    {
     "data": {
      "image/png": "[encoded data removed]",
      "text/plain": [
       "<Figure size 432x288 with 1 Axes>"
      ]
     },
     "metadata": {
      "needs_background": "light"
     },
     "output_type": "display_data"
    }
   ],
   "source": [
    "barplot(\"gender\",data)"
   ]
  },
  {
   "cell_type": "code",
   "execution_count": 48,
   "id": "f0cad049",
   "metadata": {},
   "outputs": [
    {
     "data": {
      "image/png": "[encoded data removed]",
      "text/plain": [
       "<Figure size 1080x864 with 16 Axes>"
      ]
     },
     "metadata": {
      "needs_background": "light"
     },
     "output_type": "display_data"
    }
   ],
   "source": [
    "data.hist(figsize=(15,12));"
   ]
  },
  {
   "cell_type": "code",
   "execution_count": 49,
   "id": "294b61b4",
   "metadata": {
    "scrolled": false
   },
   "outputs": [
    {
     "data": {
      "text/html": [
       "<div>\n",
       "<style scoped>\n",
       "    .dataframe tbody tr th:only-of-type {\n",
       "        vertical-align: middle;\n",
       "    }\n",
       "\n",
       "    .dataframe tbody tr th {\n",
       "        vertical-align: top;\n",
       "    }\n",
       "\n",
       "    .dataframe thead th {\n",
       "        text-align: right;\n",
       "    }\n",
       "</style>\n",
       "<table border=\"1\" class=\"dataframe\">\n",
       "  <thead>\n",
       "    <tr style=\"text-align: right;\">\n",
       "      <th></th>\n",
       "      <th>age</th>\n",
       "      <th>workclass</th>\n",
       "      <th>fnlwgt</th>\n",
       "      <th>education</th>\n",
       "      <th>marital-status</th>\n",
       "      <th>occupation</th>\n",
       "      <th>race</th>\n",
       "      <th>gender</th>\n",
       "      <th>capital-gain</th>\n",
       "      <th>capital-loss</th>\n",
       "      <th>hours-per-week</th>\n",
       "      <th>native-country</th>\n",
       "      <th>income</th>\n",
       "    </tr>\n",
       "  </thead>\n",
       "  <tbody>\n",
       "    <tr>\n",
       "      <th>count</th>\n",
       "      <td>48543.000000</td>\n",
       "      <td>48533.000000</td>\n",
       "      <td>4.854300e+04</td>\n",
       "      <td>48543.000000</td>\n",
       "      <td>48543.000000</td>\n",
       "      <td>48543.000000</td>\n",
       "      <td>48543.000000</td>\n",
       "      <td>48543.000000</td>\n",
       "      <td>48543.000000</td>\n",
       "      <td>48543.000000</td>\n",
       "      <td>48543.000000</td>\n",
       "      <td>48543.000000</td>\n",
       "      <td>48543.000000</td>\n",
       "    </tr>\n",
       "    <tr>\n",
       "      <th>mean</th>\n",
       "      <td>38.545352</td>\n",
       "      <td>0.360497</td>\n",
       "      <td>1.897067e+05</td>\n",
       "      <td>3.395340</td>\n",
       "      <td>3.130050</td>\n",
       "      <td>7.188925</td>\n",
       "      <td>2.650990</td>\n",
       "      <td>0.332468</td>\n",
       "      <td>580.506417</td>\n",
       "      <td>87.828461</td>\n",
       "      <td>40.374987</td>\n",
       "      <td>0.103867</td>\n",
       "      <td>0.235461</td>\n",
       "    </tr>\n",
       "    <tr>\n",
       "      <th>std</th>\n",
       "      <td>13.610578</td>\n",
       "      <td>0.676621</td>\n",
       "      <td>1.056436e+05</td>\n",
       "      <td>3.144371</td>\n",
       "      <td>1.379273</td>\n",
       "      <td>3.430356</td>\n",
       "      <td>0.941088</td>\n",
       "      <td>0.471103</td>\n",
       "      <td>2531.541573</td>\n",
       "      <td>403.441984</td>\n",
       "      <td>12.360258</td>\n",
       "      <td>0.516234</td>\n",
       "      <td>0.424291</td>\n",
       "    </tr>\n",
       "    <tr>\n",
       "      <th>min</th>\n",
       "      <td>17.000000</td>\n",
       "      <td>0.000000</td>\n",
       "      <td>1.228500e+04</td>\n",
       "      <td>0.000000</td>\n",
       "      <td>1.000000</td>\n",
       "      <td>1.000000</td>\n",
       "      <td>0.000000</td>\n",
       "      <td>0.000000</td>\n",
       "      <td>0.000000</td>\n",
       "      <td>0.000000</td>\n",
       "      <td>1.000000</td>\n",
       "      <td>0.000000</td>\n",
       "      <td>0.000000</td>\n",
       "    </tr>\n",
       "    <tr>\n",
       "      <th>25%</th>\n",
       "      <td>28.000000</td>\n",
       "      <td>0.000000</td>\n",
       "      <td>1.175685e+05</td>\n",
       "      <td>1.000000</td>\n",
       "      <td>2.000000</td>\n",
       "      <td>5.000000</td>\n",
       "      <td>3.000000</td>\n",
       "      <td>0.000000</td>\n",
       "      <td>0.000000</td>\n",
       "      <td>0.000000</td>\n",
       "      <td>40.000000</td>\n",
       "      <td>0.000000</td>\n",
       "      <td>0.000000</td>\n",
       "    </tr>\n",
       "    <tr>\n",
       "      <th>50%</th>\n",
       "      <td>37.000000</td>\n",
       "      <td>0.000000</td>\n",
       "      <td>1.782410e+05</td>\n",
       "      <td>2.000000</td>\n",
       "      <td>2.000000</td>\n",
       "      <td>7.000000</td>\n",
       "      <td>3.000000</td>\n",
       "      <td>0.000000</td>\n",
       "      <td>0.000000</td>\n",
       "      <td>0.000000</td>\n",
       "      <td>40.000000</td>\n",
       "      <td>0.000000</td>\n",
       "      <td>0.000000</td>\n",
       "    </tr>\n",
       "    <tr>\n",
       "      <th>75%</th>\n",
       "      <td>48.000000</td>\n",
       "      <td>0.000000</td>\n",
       "      <td>2.377130e+05</td>\n",
       "      <td>7.000000</td>\n",
       "      <td>5.000000</td>\n",
       "      <td>10.000000</td>\n",
       "      <td>3.000000</td>\n",
       "      <td>1.000000</td>\n",
       "      <td>0.000000</td>\n",
       "      <td>0.000000</td>\n",
       "      <td>45.000000</td>\n",
       "      <td>0.000000</td>\n",
       "      <td>0.000000</td>\n",
       "    </tr>\n",
       "    <tr>\n",
       "      <th>max</th>\n",
       "      <td>89.000000</td>\n",
       "      <td>3.000000</td>\n",
       "      <td>1.490400e+06</td>\n",
       "      <td>9.000000</td>\n",
       "      <td>5.000000</td>\n",
       "      <td>14.000000</td>\n",
       "      <td>4.000000</td>\n",
       "      <td>1.000000</td>\n",
       "      <td>41310.000000</td>\n",
       "      <td>4356.000000</td>\n",
       "      <td>99.000000</td>\n",
       "      <td>5.000000</td>\n",
       "      <td>1.000000</td>\n",
       "    </tr>\n",
       "  </tbody>\n",
       "</table>\n",
       "</div>"
      ],
      "text/plain": [
       "                age     workclass        fnlwgt     education  marital-status  \\\n",
       "count  48543.000000  48533.000000  4.854300e+04  48543.000000    48543.000000   \n",
       "mean      38.545352      0.360497  1.897067e+05      3.395340        3.130050   \n",
       "std       13.610578      0.676621  1.056436e+05      3.144371        1.379273   \n",
       "min       17.000000      0.000000  1.228500e+04      0.000000        1.000000   \n",
       "25%       28.000000      0.000000  1.175685e+05      1.000000        2.000000   \n",
       "50%       37.000000      0.000000  1.782410e+05      2.000000        2.000000   \n",
       "75%       48.000000      0.000000  2.377130e+05      7.000000        5.000000   \n",
       "max       89.000000      3.000000  1.490400e+06      9.000000        5.000000   \n",
       "\n",
       "         occupation          race        gender  capital-gain  capital-loss  \\\n",
       "count  48543.000000  48543.000000  48543.000000  48543.000000  48543.000000   \n",
       "mean       7.188925      2.650990      0.332468    580.506417     87.828461   \n",
       "std        3.430356      0.941088      0.471103   2531.541573    403.441984   \n",
       "min        1.000000      0.000000      0.000000      0.000000      0.000000   \n",
       "25%        5.000000      3.000000      0.000000      0.000000      0.000000   \n",
       "50%        7.000000      3.000000      0.000000      0.000000      0.000000   \n",
       "75%       10.000000      3.000000      1.000000      0.000000      0.000000   \n",
       "max       14.000000      4.000000      1.000000  41310.000000   4356.000000   \n",
       "\n",
       "       hours-per-week  native-country        income  \n",
       "count    48543.000000    48543.000000  48543.000000  \n",
       "mean        40.374987        0.103867      0.235461  \n",
       "std         12.360258        0.516234      0.424291  \n",
       "min          1.000000        0.000000      0.000000  \n",
       "25%         40.000000        0.000000      0.000000  \n",
       "50%         40.000000        0.000000      0.000000  \n",
       "75%         45.000000        0.000000      0.000000  \n",
       "max         99.000000        5.000000      1.000000  "
      ]
     },
     "execution_count": 49,
     "metadata": {},
     "output_type": "execute_result"
    }
   ],
   "source": [
    "data.describe()"
   ]
  },
  {
   "cell_type": "markdown",
   "id": "128f14c4",
   "metadata": {},
   "source": [
    "# Step - 5 - \n",
    "In the above steps you might have encountered many missing values and outliers. Find and treat the outliers and missing values in each column 😥 Read this Kaggle Notebook and understand various ways to detect and handle outliers. \n",
    "Try to implement the same. Outlier!!! The Silent Killer"
   ]
  },
  {
   "cell_type": "markdown",
   "id": "e08818c0",
   "metadata": {},
   "source": [
    "# Distribution of Numerical columns"
   ]
  },
  {
   "cell_type": "code",
   "execution_count": 50,
   "id": "0a335833",
   "metadata": {},
   "outputs": [
    {
     "data": {
      "text/plain": [
       "<AxesSubplot:xlabel='income', ylabel='age'>"
      ]
     },
     "execution_count": 50,
     "metadata": {},
     "output_type": "execute_result"
    },
    {
     "data": {
      "image/png": "[encoded data removed]",
      "text/plain": [
       "<Figure size 432x288 with 1 Axes>"
      ]
     },
     "metadata": {
      "needs_background": "light"
     },
     "output_type": "display_data"
    }
   ],
   "source": [
    "plt.figure(figsize=(6, 4))\n",
    "plt.xticks(fontsize=10, rotation=50)\n",
    "sns.boxplot(x=\"income\", y=\"age\", data=data,palette=['yellow','green'])"
   ]
  },
  {
   "cell_type": "code",
   "execution_count": 51,
   "id": "87129d7b",
   "metadata": {},
   "outputs": [],
   "source": [
    "data_age= data['age'].loc[data['income']==1].values"
   ]
  },
  {
   "cell_type": "code",
   "execution_count": 52,
   "id": "f5e5d96e",
   "metadata": {},
   "outputs": [
    {
     "data": {
      "text/plain": [
       "(11430,)"
      ]
     },
     "execution_count": 52,
     "metadata": {},
     "output_type": "execute_result"
    }
   ],
   "source": [
    "data_age.shape"
   ]
  },
  {
   "cell_type": "markdown",
   "id": "4c297824",
   "metadata": {},
   "source": [
    "As we found that there are some extreme values(outliers) in Age column, we need to eliminate them. \n",
    "we will use IQR for removing outliers"
   ]
  },
  {
   "cell_type": "code",
   "execution_count": 53,
   "id": "a4da4a49",
   "metadata": {},
   "outputs": [],
   "source": [
    "quantile75_age, quantile25_age = np.percentile(data_age,q=75),np.percentile(data_age,q=25)"
   ]
  },
  {
   "cell_type": "code",
   "execution_count": 54,
   "id": "1f50a865",
   "metadata": {},
   "outputs": [
    {
     "data": {
      "text/plain": [
       "(51.0, 36.0)"
      ]
     },
     "execution_count": 54,
     "metadata": {},
     "output_type": "execute_result"
    }
   ],
   "source": [
    "quantile75_age, quantile25_age"
   ]
  },
  {
   "cell_type": "code",
   "execution_count": 55,
   "id": "78b25083",
   "metadata": {},
   "outputs": [],
   "source": [
    "iqr=quantile75_age- quantile25_age\n",
    "lower, upper=quantile25_age-iqr, quantile75_age + iqr\n",
    "data['age']=data['age'].clip(lower=lower,upper=upper)"
   ]
  },
  {
   "cell_type": "code",
   "execution_count": 56,
   "id": "f1a38f31",
   "metadata": {},
   "outputs": [
    {
     "data": {
      "text/plain": [
       "(21.0, 66.0)"
      ]
     },
     "execution_count": 56,
     "metadata": {},
     "output_type": "execute_result"
    }
   ],
   "source": [
    "lower,upper"
   ]
  },
  {
   "cell_type": "code",
   "execution_count": 57,
   "id": "b3744fd5",
   "metadata": {},
   "outputs": [
    {
     "data": {
      "text/plain": [
       "count    48543.000000\n",
       "mean        38.527800\n",
       "std         12.918531\n",
       "min         21.000000\n",
       "25%         28.000000\n",
       "50%         37.000000\n",
       "75%         48.000000\n",
       "max         66.000000\n",
       "Name: age, dtype: float64"
      ]
     },
     "execution_count": 57,
     "metadata": {},
     "output_type": "execute_result"
    }
   ],
   "source": [
    "data['age'].describe()"
   ]
  },
  {
   "cell_type": "code",
   "execution_count": 58,
   "id": "7d3c1d08",
   "metadata": {},
   "outputs": [
    {
     "data": {
      "text/plain": [
       "(48543,)"
      ]
     },
     "execution_count": 58,
     "metadata": {},
     "output_type": "execute_result"
    }
   ],
   "source": [
    "data['age'].shape"
   ]
  },
  {
   "cell_type": "markdown",
   "id": "540990a7",
   "metadata": {},
   "source": [
    "Box-plot after removing outliers"
   ]
  },
  {
   "cell_type": "code",
   "execution_count": 59,
   "id": "f8715465",
   "metadata": {},
   "outputs": [
    {
     "data": {
      "text/plain": [
       "<AxesSubplot:xlabel='income', ylabel='age'>"
      ]
     },
     "execution_count": 59,
     "metadata": {},
     "output_type": "execute_result"
    },
    {
     "data": {
      "image/png": "[encoded data removed]",
      "text/plain": [
       "<Figure size 432x288 with 1 Axes>"
      ]
     },
     "metadata": {
      "needs_background": "light"
     },
     "output_type": "display_data"
    }
   ],
   "source": [
    "plt.figure(figsize=(6,4))\n",
    "plt.xticks(fontsize=10, rotation=50)\n",
    "sns.boxplot(x=\"income\", y=\"age\", data=data,palette=['yellow','green'])"
   ]
  },
  {
   "cell_type": "markdown",
   "id": "731073f4",
   "metadata": {},
   "source": [
    "Box-plot for 'fnlwgt' column"
   ]
  },
  {
   "cell_type": "code",
   "execution_count": 60,
   "id": "c3029e55",
   "metadata": {},
   "outputs": [
    {
     "data": {
      "text/plain": [
       "<AxesSubplot:xlabel='income', ylabel='fnlwgt'>"
      ]
     },
     "execution_count": 60,
     "metadata": {},
     "output_type": "execute_result"
    },
    {
     "data": {
      "image/png": "[encoded data removed]",
      "text/plain": [
       "<Figure size 432x288 with 1 Axes>"
      ]
     },
     "metadata": {
      "needs_background": "light"
     },
     "output_type": "display_data"
    }
   ],
   "source": [
    "plt.figure(figsize=(6,4))\n",
    "plt.xticks(fontsize=10, rotation=50)\n",
    "sns.boxplot(x=\"income\", y=\"fnlwgt\", data=data,palette=['yellow','green'])"
   ]
  },
  {
   "cell_type": "code",
   "execution_count": 61,
   "id": "8b2a9cbd",
   "metadata": {},
   "outputs": [],
   "source": [
    "data_fnlwgt= data['fnlwgt'].loc[data['income']==1].values"
   ]
  },
  {
   "cell_type": "code",
   "execution_count": 62,
   "id": "5b9b2ea4",
   "metadata": {},
   "outputs": [
    {
     "data": {
      "text/plain": [
       "(11430,)"
      ]
     },
     "execution_count": 62,
     "metadata": {},
     "output_type": "execute_result"
    }
   ],
   "source": [
    "data_fnlwgt.shape"
   ]
  },
  {
   "cell_type": "code",
   "execution_count": 63,
   "id": "4cc5b0d3",
   "metadata": {},
   "outputs": [],
   "source": [
    "quantile75_fnlwgt, quantile25_fnlwgt = np.percentile(data_fnlwgt,q=75),np.percentile(data_fnlwgt,q=25)"
   ]
  },
  {
   "cell_type": "code",
   "execution_count": 64,
   "id": "bfa0cdab",
   "metadata": {},
   "outputs": [
    {
     "data": {
      "text/plain": [
       "(233571.0, 119038.75)"
      ]
     },
     "execution_count": 64,
     "metadata": {},
     "output_type": "execute_result"
    }
   ],
   "source": [
    "quantile75_fnlwgt, quantile25_fnlwgt"
   ]
  },
  {
   "cell_type": "code",
   "execution_count": 65,
   "id": "22566875",
   "metadata": {},
   "outputs": [],
   "source": [
    "iqr=quantile75_fnlwgt- quantile25_fnlwgt\n",
    "lower, upper=quantile25_fnlwgt-iqr, quantile75_fnlwgt + iqr\n",
    "data['fnlwgt']=data['fnlwgt'].clip(lower=lower,upper=upper)"
   ]
  },
  {
   "cell_type": "code",
   "execution_count": 66,
   "id": "cdad67ce",
   "metadata": {},
   "outputs": [
    {
     "data": {
      "text/plain": [
       "(4506.5, 348103.25)"
      ]
     },
     "execution_count": 66,
     "metadata": {},
     "output_type": "execute_result"
    }
   ],
   "source": [
    "lower,upper"
   ]
  },
  {
   "cell_type": "code",
   "execution_count": 67,
   "id": "93a2124b",
   "metadata": {},
   "outputs": [
    {
     "data": {
      "text/plain": [
       "count     48543.000000\n",
       "mean     183336.771440\n",
       "std       88049.561768\n",
       "min       12285.000000\n",
       "25%      117568.500000\n",
       "50%      178241.000000\n",
       "75%      237713.000000\n",
       "max      348103.250000\n",
       "Name: fnlwgt, dtype: float64"
      ]
     },
     "execution_count": 67,
     "metadata": {},
     "output_type": "execute_result"
    }
   ],
   "source": [
    "data['fnlwgt'].describe()"
   ]
  },
  {
   "cell_type": "code",
   "execution_count": 68,
   "id": "c3b6686b",
   "metadata": {},
   "outputs": [
    {
     "data": {
      "text/plain": [
       "(48543,)"
      ]
     },
     "execution_count": 68,
     "metadata": {},
     "output_type": "execute_result"
    }
   ],
   "source": [
    "data['fnlwgt'].shape"
   ]
  },
  {
   "cell_type": "code",
   "execution_count": 69,
   "id": "cbd6fab5",
   "metadata": {},
   "outputs": [
    {
     "data": {
      "text/plain": [
       "<AxesSubplot:xlabel='income', ylabel='fnlwgt'>"
      ]
     },
     "execution_count": 69,
     "metadata": {},
     "output_type": "execute_result"
    },
    {
     "data": {
      "image/png": "[encoded data removed]",
      "text/plain": [
       "<Figure size 432x288 with 1 Axes>"
      ]
     },
     "metadata": {
      "needs_background": "light"
     },
     "output_type": "display_data"
    }
   ],
   "source": [
    "plt.figure(figsize=(6,4))\n",
    "plt.xticks(fontsize=10, rotation=50)\n",
    "sns.boxplot(x=\"income\", y=\"fnlwgt\", data=data,palette=['yellow','green'])"
   ]
  },
  {
   "cell_type": "markdown",
   "id": "f82a3a0e",
   "metadata": {},
   "source": [
    "Box-plot for 'capital-gain' column"
   ]
  },
  {
   "cell_type": "code",
   "execution_count": 70,
   "id": "c7e0ee8e",
   "metadata": {},
   "outputs": [
    {
     "data": {
      "text/plain": [
       "<AxesSubplot:xlabel='income', ylabel='capital-gain'>"
      ]
     },
     "execution_count": 70,
     "metadata": {},
     "output_type": "execute_result"
    },
    {
     "data": {
      "image/png": "[encoded data removed]",
      "text/plain": [
       "<Figure size 432x288 with 1 Axes>"
      ]
     },
     "metadata": {
      "needs_background": "light"
     },
     "output_type": "display_data"
    }
   ],
   "source": [
    "plt.figure(figsize=(6,4))\n",
    "plt.xticks(fontsize=10, rotation=50)\n",
    "sns.boxplot(x=\"income\", y=\"capital-gain\", data=data,palette=['yellow','green'])"
   ]
  },
  {
   "cell_type": "markdown",
   "id": "fa322c06",
   "metadata": {},
   "source": [
    "Box-plot for 'capital-loss' column"
   ]
  },
  {
   "cell_type": "code",
   "execution_count": 71,
   "id": "2aa6e8a1",
   "metadata": {},
   "outputs": [
    {
     "data": {
      "text/plain": [
       "<AxesSubplot:xlabel='income', ylabel='capital-loss'>"
      ]
     },
     "execution_count": 71,
     "metadata": {},
     "output_type": "execute_result"
    },
    {
     "data": {
      "image/png": "[encoded data removed]",
      "text/plain": [
       "<Figure size 432x288 with 1 Axes>"
      ]
     },
     "metadata": {
      "needs_background": "light"
     },
     "output_type": "display_data"
    }
   ],
   "source": [
    "plt.figure(figsize=(6,4))\n",
    "plt.xticks(fontsize=10, rotation=50)\n",
    "sns.boxplot(x=\"income\", y=\"capital-loss\", data=data,palette=['yellow','green'])"
   ]
  },
  {
   "cell_type": "markdown",
   "id": "144575b7",
   "metadata": {},
   "source": [
    "Box-plot for 'hours-per-week' column"
   ]
  },
  {
   "cell_type": "code",
   "execution_count": 72,
   "id": "d7b247d0",
   "metadata": {},
   "outputs": [
    {
     "data": {
      "text/plain": [
       "<AxesSubplot:xlabel='income', ylabel='hours-per-week'>"
      ]
     },
     "execution_count": 72,
     "metadata": {},
     "output_type": "execute_result"
    },
    {
     "data": {
      "image/png": "[encoded data removed]",
      "text/plain": [
       "<Figure size 432x288 with 1 Axes>"
      ]
     },
     "metadata": {
      "needs_background": "light"
     },
     "output_type": "display_data"
    }
   ],
   "source": [
    "plt.figure(figsize=(6,4))\n",
    "plt.xticks(fontsize=10, rotation=50)\n",
    "sns.boxplot(x=\"income\", y=\"hours-per-week\", data=data,palette=['yellow','green'])"
   ]
  },
  {
   "cell_type": "code",
   "execution_count": 73,
   "id": "cc3a3226",
   "metadata": {},
   "outputs": [],
   "source": [
    "data_hpw= data['hours-per-week'].loc[data['income']==1].values"
   ]
  },
  {
   "cell_type": "code",
   "execution_count": 74,
   "id": "6abfa671",
   "metadata": {},
   "outputs": [
    {
     "data": {
      "text/plain": [
       "(11430,)"
      ]
     },
     "execution_count": 74,
     "metadata": {},
     "output_type": "execute_result"
    }
   ],
   "source": [
    "data_hpw.shape"
   ]
  },
  {
   "cell_type": "code",
   "execution_count": 75,
   "id": "ad74db34",
   "metadata": {},
   "outputs": [],
   "source": [
    "quantile75_hpw, quantile25_hpw = np.percentile(data_hpw,q=75),np.percentile(data_hpw,q=25)"
   ]
  },
  {
   "cell_type": "code",
   "execution_count": 76,
   "id": "f0c5bf53",
   "metadata": {},
   "outputs": [
    {
     "data": {
      "text/plain": [
       "(50.0, 40.0)"
      ]
     },
     "execution_count": 76,
     "metadata": {},
     "output_type": "execute_result"
    }
   ],
   "source": [
    "quantile75_hpw, quantile25_hpw"
   ]
  },
  {
   "cell_type": "code",
   "execution_count": 77,
   "id": "76f99d0c",
   "metadata": {},
   "outputs": [],
   "source": [
    "iqr=quantile75_hpw- quantile25_hpw\n",
    "lower, upper=quantile25_hpw-iqr, quantile75_hpw + iqr\n",
    "data['hours-per-week']=data['hours-per-week'].clip(lower=lower,upper=upper)"
   ]
  },
  {
   "cell_type": "code",
   "execution_count": 78,
   "id": "428343aa",
   "metadata": {},
   "outputs": [
    {
     "data": {
      "text/plain": [
       "(30.0, 60.0)"
      ]
     },
     "execution_count": 78,
     "metadata": {},
     "output_type": "execute_result"
    }
   ],
   "source": [
    "lower,upper"
   ]
  },
  {
   "cell_type": "code",
   "execution_count": 79,
   "id": "e30c5a94",
   "metadata": {},
   "outputs": [
    {
     "data": {
      "text/plain": [
       "count    48543.000000\n",
       "mean        41.415446\n",
       "std          8.096889\n",
       "min         30.000000\n",
       "25%         40.000000\n",
       "50%         40.000000\n",
       "75%         45.000000\n",
       "max         60.000000\n",
       "Name: hours-per-week, dtype: float64"
      ]
     },
     "execution_count": 79,
     "metadata": {},
     "output_type": "execute_result"
    }
   ],
   "source": [
    "data['hours-per-week'].describe()"
   ]
  },
  {
   "cell_type": "code",
   "execution_count": 80,
   "id": "33109970",
   "metadata": {},
   "outputs": [
    {
     "data": {
      "text/plain": [
       "(48543,)"
      ]
     },
     "execution_count": 80,
     "metadata": {},
     "output_type": "execute_result"
    }
   ],
   "source": [
    "data['hours-per-week'].shape"
   ]
  },
  {
   "cell_type": "code",
   "execution_count": 81,
   "id": "2d754ac2",
   "metadata": {},
   "outputs": [
    {
     "data": {
      "text/plain": [
       "<AxesSubplot:xlabel='income', ylabel='hours-per-week'>"
      ]
     },
     "execution_count": 81,
     "metadata": {},
     "output_type": "execute_result"
    },
    {
     "data": {
      "image/png": "[encoded data removed]",
      "text/plain": [
       "<Figure size 432x288 with 1 Axes>"
      ]
     },
     "metadata": {
      "needs_background": "light"
     },
     "output_type": "display_data"
    }
   ],
   "source": [
    "plt.figure(figsize=(6,4))\n",
    "plt.xticks(fontsize=10, rotation=50)\n",
    "sns.boxplot(x=\"income\", y=\"hours-per-week\", data=data,palette=['yellow','green'])"
   ]
  },
  {
   "cell_type": "code",
   "execution_count": 82,
   "id": "a6a6cf40",
   "metadata": {},
   "outputs": [],
   "source": [
    "data_hpw= data['hours-per-week'].loc[data['income']==0].values"
   ]
  },
  {
   "cell_type": "code",
   "execution_count": 83,
   "id": "e9322123",
   "metadata": {},
   "outputs": [
    {
     "data": {
      "text/plain": [
       "(37113,)"
      ]
     },
     "execution_count": 83,
     "metadata": {},
     "output_type": "execute_result"
    }
   ],
   "source": [
    "data_hpw.shape"
   ]
  },
  {
   "cell_type": "code",
   "execution_count": 84,
   "id": "1a2b8604",
   "metadata": {},
   "outputs": [],
   "source": [
    "quantile75_hpw, quantile25_hpw = np.percentile(data_hpw,q=75),np.percentile(data_hpw,q=25)"
   ]
  },
  {
   "cell_type": "code",
   "execution_count": 85,
   "id": "475cbc26",
   "metadata": {},
   "outputs": [
    {
     "data": {
      "text/plain": [
       "(40.0, 35.0)"
      ]
     },
     "execution_count": 85,
     "metadata": {},
     "output_type": "execute_result"
    }
   ],
   "source": [
    "quantile75_hpw, quantile25_hpw"
   ]
  },
  {
   "cell_type": "code",
   "execution_count": 86,
   "id": "ad109a57",
   "metadata": {},
   "outputs": [],
   "source": [
    "iqr=quantile75_hpw- quantile25_hpw\n",
    "lower, upper=quantile25_hpw-iqr, quantile75_hpw + iqr\n",
    "data['hours-per-week']=data['hours-per-week'].clip(lower=lower,upper=upper)"
   ]
  },
  {
   "cell_type": "code",
   "execution_count": 87,
   "id": "62464535",
   "metadata": {},
   "outputs": [
    {
     "data": {
      "text/plain": [
       "(30.0, 45.0)"
      ]
     },
     "execution_count": 87,
     "metadata": {},
     "output_type": "execute_result"
    }
   ],
   "source": [
    "lower,upper"
   ]
  },
  {
   "cell_type": "code",
   "execution_count": 88,
   "id": "c142f85d",
   "metadata": {},
   "outputs": [
    {
     "data": {
      "text/plain": [
       "count    48543.000000\n",
       "mean        39.449004\n",
       "std          4.969893\n",
       "min         30.000000\n",
       "25%         40.000000\n",
       "50%         40.000000\n",
       "75%         45.000000\n",
       "max         45.000000\n",
       "Name: hours-per-week, dtype: float64"
      ]
     },
     "execution_count": 88,
     "metadata": {},
     "output_type": "execute_result"
    }
   ],
   "source": [
    "data['hours-per-week'].describe()"
   ]
  },
  {
   "cell_type": "code",
   "execution_count": 89,
   "id": "405c3131",
   "metadata": {},
   "outputs": [
    {
     "data": {
      "text/plain": [
       "(48543,)"
      ]
     },
     "execution_count": 89,
     "metadata": {},
     "output_type": "execute_result"
    }
   ],
   "source": [
    "data['hours-per-week'].shape"
   ]
  },
  {
   "cell_type": "code",
   "execution_count": 90,
   "id": "9cdb31d2",
   "metadata": {},
   "outputs": [
    {
     "data": {
      "text/plain": [
       "<AxesSubplot:xlabel='income', ylabel='hours-per-week'>"
      ]
     },
     "execution_count": 90,
     "metadata": {},
     "output_type": "execute_result"
    },
    {
     "data": {
      "image/png": "[encoded data removed]",
      "text/plain": [
       "<Figure size 432x288 with 1 Axes>"
      ]
     },
     "metadata": {
      "needs_background": "light"
     },
     "output_type": "display_data"
    }
   ],
   "source": [
    "#Box-plot after removing outliers \n",
    "\n",
    "plt.figure(figsize=(6,4))\n",
    "plt.xticks(fontsize=10, rotation=50)\n",
    "sns.boxplot(x=\"income\", y=\"hours-per-week\", data=data,palette=['yellow','green'])"
   ]
  },
  {
   "cell_type": "markdown",
   "id": "11f63351",
   "metadata": {},
   "source": [
    "# Step - 4 - \n",
    "Bivariate Analysis Discover the relationships between numerical columns using Scatter plots, \n",
    "hexbin plots, pair plots, etc.. Identify the patterns between categorical and \n",
    "numerical columns using swarmplot, boxplot, barplot, etc.. Mention observations after each plot."
   ]
  },
  {
   "cell_type": "code",
   "execution_count": 91,
   "id": "b809f2ea",
   "metadata": {},
   "outputs": [],
   "source": [
    "cat_attr = ['workclass','education','marital-status','occupation','race','gender']"
   ]
  },
  {
   "cell_type": "code",
   "execution_count": 92,
   "id": "b7ddf1d6",
   "metadata": {},
   "outputs": [],
   "source": [
    "#Type conversions\n",
    "data['workclass']=data['workclass'].astype('category')\n",
    "data['education']=data['education'].astype('category')\n",
    "data['marital-status']=data['marital-status'].astype('category')\n",
    "data['occupation']=data['occupation'].astype('category')\n",
    "data['race']=data['race'].astype('category')\n",
    "data['gender']=data['gender'].astype('category')\n"
   ]
  },
  {
   "cell_type": "code",
   "execution_count": 93,
   "id": "d0578103",
   "metadata": {},
   "outputs": [],
   "source": [
    "num_attr = ['age','fnlwgt','capital-gain','capital-loss','hours-per-week','income','native-country']"
   ]
  },
  {
   "cell_type": "code",
   "execution_count": 94,
   "id": "c77911c5",
   "metadata": {},
   "outputs": [],
   "source": [
    "data[num_attr] = data[num_attr].astype('int')"
   ]
  },
  {
   "cell_type": "code",
   "execution_count": 95,
   "id": "86070580",
   "metadata": {},
   "outputs": [
    {
     "data": {
      "text/plain": [
       "age                  int32\n",
       "workclass         category\n",
       "fnlwgt               int32\n",
       "education         category\n",
       "marital-status    category\n",
       "occupation        category\n",
       "race              category\n",
       "gender            category\n",
       "capital-gain         int32\n",
       "capital-loss         int32\n",
       "hours-per-week       int32\n",
       "native-country       int32\n",
       "income               int32\n",
       "dtype: object"
      ]
     },
     "execution_count": 95,
     "metadata": {},
     "output_type": "execute_result"
    }
   ],
   "source": [
    "# checking the data types after converting.\n",
    "data.dtypes"
   ]
  },
  {
   "cell_type": "markdown",
   "id": "f740c73d",
   "metadata": {},
   "source": [
    "# Checking the correlation"
   ]
  },
  {
   "cell_type": "code",
   "execution_count": 96,
   "id": "b54b358d",
   "metadata": {},
   "outputs": [
    {
     "data": {
      "text/plain": [
       "<AxesSubplot:>"
      ]
     },
     "execution_count": 96,
     "metadata": {},
     "output_type": "execute_result"
    },
    {
     "data": {
      "image/png": "[encoded data removed]",
      "text/plain": [
       "<Figure size 432x288 with 2 Axes>"
      ]
     },
     "metadata": {
      "needs_background": "light"
     },
     "output_type": "display_data"
    }
   ],
   "source": [
    "sns.heatmap(data.corr(),annot=True)"
   ]
  },
  {
   "cell_type": "markdown",
   "id": "bf5a677c",
   "metadata": {},
   "source": [
    "Scatterplots to find relationships between numerical columns"
   ]
  },
  {
   "cell_type": "code",
   "execution_count": 97,
   "id": "0e48482d",
   "metadata": {},
   "outputs": [
    {
     "data": {
      "image/png": "[encoded data removed]",
      "text/plain": [
       "<Figure size 432x288 with 1 Axes>"
      ]
     },
     "metadata": {
      "needs_background": "light"
     },
     "output_type": "display_data"
    }
   ],
   "source": [
    "import seaborn as sns\n",
    "sns.scatterplot(x=\"age\", y=\"fnlwgt\", data=data);"
   ]
  },
  {
   "cell_type": "code",
   "execution_count": 98,
   "id": "1830e527",
   "metadata": {},
   "outputs": [
    {
     "data": {
      "image/png": "[encoded data removed]",
      "text/plain": [
       "<Figure size 432x288 with 1 Axes>"
      ]
     },
     "metadata": {
      "needs_background": "light"
     },
     "output_type": "display_data"
    }
   ],
   "source": [
    "sns.scatterplot(x=\"age\", y=\"capital-gain\", data=data);"
   ]
  },
  {
   "cell_type": "code",
   "execution_count": 99,
   "id": "29787cad",
   "metadata": {},
   "outputs": [
    {
     "data": {
      "image/png": "[encoded data removed]",
      "text/plain": [
       "<Figure size 432x288 with 1 Axes>"
      ]
     },
     "metadata": {
      "needs_background": "light"
     },
     "output_type": "display_data"
    }
   ],
   "source": [
    "sns.scatterplot(x='age',y='income',data=data);"
   ]
  },
  {
   "cell_type": "code",
   "execution_count": 100,
   "id": "f3fd1f2c",
   "metadata": {},
   "outputs": [
    {
     "data": {
      "image/png": "[encoded data removed]",
      "text/plain": [
       "<Figure size 432x288 with 1 Axes>"
      ]
     },
     "metadata": {
      "needs_background": "light"
     },
     "output_type": "display_data"
    }
   ],
   "source": [
    "sns.scatterplot(x='capital-gain',y='capital-loss',data=data);"
   ]
  },
  {
   "cell_type": "markdown",
   "id": "c5da50be",
   "metadata": {},
   "source": [
    "# Relationship of categorical variables with the target variable"
   ]
  },
  {
   "cell_type": "code",
   "execution_count": 101,
   "id": "9cb8a2af",
   "metadata": {},
   "outputs": [
    {
     "data": {
      "text/html": [
       "<div>\n",
       "<style scoped>\n",
       "    .dataframe tbody tr th:only-of-type {\n",
       "        vertical-align: middle;\n",
       "    }\n",
       "\n",
       "    .dataframe tbody tr th {\n",
       "        vertical-align: top;\n",
       "    }\n",
       "\n",
       "    .dataframe thead th {\n",
       "        text-align: right;\n",
       "    }\n",
       "</style>\n",
       "<table border=\"1\" class=\"dataframe\">\n",
       "  <thead>\n",
       "    <tr style=\"text-align: right;\">\n",
       "      <th>income</th>\n",
       "      <th>0</th>\n",
       "      <th>1</th>\n",
       "    </tr>\n",
       "    <tr>\n",
       "      <th>workclass</th>\n",
       "      <th></th>\n",
       "      <th></th>\n",
       "    </tr>\n",
       "  </thead>\n",
       "  <tbody>\n",
       "    <tr>\n",
       "      <th>0.0</th>\n",
       "      <td>29020</td>\n",
       "      <td>7511</td>\n",
       "    </tr>\n",
       "    <tr>\n",
       "      <th>1.0</th>\n",
       "      <td>4526</td>\n",
       "      <td>2003</td>\n",
       "    </tr>\n",
       "    <tr>\n",
       "      <th>2.0</th>\n",
       "      <td>3538</td>\n",
       "      <td>1914</td>\n",
       "    </tr>\n",
       "    <tr>\n",
       "      <th>3.0</th>\n",
       "      <td>19</td>\n",
       "      <td>2</td>\n",
       "    </tr>\n",
       "  </tbody>\n",
       "</table>\n",
       "</div>"
      ],
      "text/plain": [
       "income         0     1\n",
       "workclass             \n",
       "0.0        29020  7511\n",
       "1.0         4526  2003\n",
       "2.0         3538  1914\n",
       "3.0           19     2"
      ]
     },
     "execution_count": 101,
     "metadata": {},
     "output_type": "execute_result"
    }
   ],
   "source": [
    "pd.crosstab(data['workclass'],data['income'])"
   ]
  },
  {
   "cell_type": "code",
   "execution_count": 102,
   "id": "6983fb60",
   "metadata": {},
   "outputs": [
    {
     "data": {
      "text/html": [
       "<div>\n",
       "<style scoped>\n",
       "    .dataframe tbody tr th:only-of-type {\n",
       "        vertical-align: middle;\n",
       "    }\n",
       "\n",
       "    .dataframe tbody tr th {\n",
       "        vertical-align: top;\n",
       "    }\n",
       "\n",
       "    .dataframe thead th {\n",
       "        text-align: right;\n",
       "    }\n",
       "</style>\n",
       "<table border=\"1\" class=\"dataframe\">\n",
       "  <thead>\n",
       "    <tr style=\"text-align: right;\">\n",
       "      <th>income</th>\n",
       "      <th>0</th>\n",
       "      <th>1</th>\n",
       "    </tr>\n",
       "    <tr>\n",
       "      <th>education</th>\n",
       "      <th></th>\n",
       "      <th></th>\n",
       "    </tr>\n",
       "  </thead>\n",
       "  <tbody>\n",
       "    <tr>\n",
       "      <th>0</th>\n",
       "      <td>163</td>\n",
       "      <td>408</td>\n",
       "    </tr>\n",
       "    <tr>\n",
       "      <th>1</th>\n",
       "      <td>17608</td>\n",
       "      <td>2730</td>\n",
       "    </tr>\n",
       "    <tr>\n",
       "      <th>2</th>\n",
       "      <td>8807</td>\n",
       "      <td>2045</td>\n",
       "    </tr>\n",
       "    <tr>\n",
       "      <th>3</th>\n",
       "      <td>1610</td>\n",
       "      <td>96</td>\n",
       "    </tr>\n",
       "    <tr>\n",
       "      <th>4</th>\n",
       "      <td>1187</td>\n",
       "      <td>410</td>\n",
       "    </tr>\n",
       "    <tr>\n",
       "      <th>5</th>\n",
       "      <td>216</td>\n",
       "      <td>547</td>\n",
       "    </tr>\n",
       "    <tr>\n",
       "      <th>6</th>\n",
       "      <td>82</td>\n",
       "      <td>1</td>\n",
       "    </tr>\n",
       "    <tr>\n",
       "      <th>7</th>\n",
       "      <td>1539</td>\n",
       "      <td>519</td>\n",
       "    </tr>\n",
       "    <tr>\n",
       "      <th>8</th>\n",
       "      <td>1196</td>\n",
       "      <td>1426</td>\n",
       "    </tr>\n",
       "    <tr>\n",
       "      <th>9</th>\n",
       "      <td>4705</td>\n",
       "      <td>3248</td>\n",
       "    </tr>\n",
       "  </tbody>\n",
       "</table>\n",
       "</div>"
      ],
      "text/plain": [
       "income         0     1\n",
       "education             \n",
       "0            163   408\n",
       "1          17608  2730\n",
       "2           8807  2045\n",
       "3           1610    96\n",
       "4           1187   410\n",
       "5            216   547\n",
       "6             82     1\n",
       "7           1539   519\n",
       "8           1196  1426\n",
       "9           4705  3248"
      ]
     },
     "execution_count": 102,
     "metadata": {},
     "output_type": "execute_result"
    }
   ],
   "source": [
    "pd.crosstab(data['education'],data['income'])"
   ]
  },
  {
   "cell_type": "code",
   "execution_count": 103,
   "id": "3432af86",
   "metadata": {},
   "outputs": [
    {
     "data": {
      "text/html": [
       "<div>\n",
       "<style scoped>\n",
       "    .dataframe tbody tr th:only-of-type {\n",
       "        vertical-align: middle;\n",
       "    }\n",
       "\n",
       "    .dataframe tbody tr th {\n",
       "        vertical-align: top;\n",
       "    }\n",
       "\n",
       "    .dataframe thead th {\n",
       "        text-align: right;\n",
       "    }\n",
       "</style>\n",
       "<table border=\"1\" class=\"dataframe\">\n",
       "  <thead>\n",
       "    <tr style=\"text-align: right;\">\n",
       "      <th>income</th>\n",
       "      <th>0</th>\n",
       "      <th>1</th>\n",
       "    </tr>\n",
       "    <tr>\n",
       "      <th>marital-status</th>\n",
       "      <th></th>\n",
       "      <th></th>\n",
       "    </tr>\n",
       "  </thead>\n",
       "  <tbody>\n",
       "    <tr>\n",
       "      <th>1</th>\n",
       "      <td>1383</td>\n",
       "      <td>126</td>\n",
       "    </tr>\n",
       "    <tr>\n",
       "      <th>2</th>\n",
       "      <td>12973</td>\n",
       "      <td>9850</td>\n",
       "    </tr>\n",
       "    <tr>\n",
       "      <th>3</th>\n",
       "      <td>7388</td>\n",
       "      <td>746</td>\n",
       "    </tr>\n",
       "    <tr>\n",
       "      <th>5</th>\n",
       "      <td>15369</td>\n",
       "      <td>708</td>\n",
       "    </tr>\n",
       "  </tbody>\n",
       "</table>\n",
       "</div>"
      ],
      "text/plain": [
       "income              0     1\n",
       "marital-status             \n",
       "1                1383   126\n",
       "2               12973  9850\n",
       "3                7388   746\n",
       "5               15369   708"
      ]
     },
     "execution_count": 103,
     "metadata": {},
     "output_type": "execute_result"
    }
   ],
   "source": [
    "pd.crosstab(data['marital-status'],data['income'])"
   ]
  },
  {
   "cell_type": "code",
   "execution_count": 104,
   "id": "985b71cd",
   "metadata": {},
   "outputs": [
    {
     "data": {
      "text/html": [
       "<div>\n",
       "<style scoped>\n",
       "    .dataframe tbody tr th:only-of-type {\n",
       "        vertical-align: middle;\n",
       "    }\n",
       "\n",
       "    .dataframe tbody tr th {\n",
       "        vertical-align: top;\n",
       "    }\n",
       "\n",
       "    .dataframe thead th {\n",
       "        text-align: right;\n",
       "    }\n",
       "</style>\n",
       "<table border=\"1\" class=\"dataframe\">\n",
       "  <thead>\n",
       "    <tr style=\"text-align: right;\">\n",
       "      <th>income</th>\n",
       "      <th>0</th>\n",
       "      <th>1</th>\n",
       "    </tr>\n",
       "    <tr>\n",
       "      <th>occupation</th>\n",
       "      <th></th>\n",
       "      <th></th>\n",
       "    </tr>\n",
       "  </thead>\n",
       "  <tbody>\n",
       "    <tr>\n",
       "      <th>1</th>\n",
       "      <td>1316</td>\n",
       "      <td>170</td>\n",
       "    </tr>\n",
       "    <tr>\n",
       "      <th>2</th>\n",
       "      <td>1026</td>\n",
       "      <td>419</td>\n",
       "    </tr>\n",
       "    <tr>\n",
       "      <th>3</th>\n",
       "      <td>4838</td>\n",
       "      <td>759</td>\n",
       "    </tr>\n",
       "    <tr>\n",
       "      <th>4</th>\n",
       "      <td>1933</td>\n",
       "      <td>136</td>\n",
       "    </tr>\n",
       "    <tr>\n",
       "      <th>5</th>\n",
       "      <td>5920</td>\n",
       "      <td>2939</td>\n",
       "    </tr>\n",
       "    <tr>\n",
       "      <th>6</th>\n",
       "      <td>2647</td>\n",
       "      <td>371</td>\n",
       "    </tr>\n",
       "    <tr>\n",
       "      <th>7</th>\n",
       "      <td>3173</td>\n",
       "      <td>2837</td>\n",
       "    </tr>\n",
       "    <tr>\n",
       "      <th>8</th>\n",
       "      <td>239</td>\n",
       "      <td>3</td>\n",
       "    </tr>\n",
       "    <tr>\n",
       "      <th>9</th>\n",
       "      <td>4726</td>\n",
       "      <td>1365</td>\n",
       "    </tr>\n",
       "    <tr>\n",
       "      <th>10</th>\n",
       "      <td>4027</td>\n",
       "      <td>1439</td>\n",
       "    </tr>\n",
       "    <tr>\n",
       "      <th>11</th>\n",
       "      <td>1872</td>\n",
       "      <td>480</td>\n",
       "    </tr>\n",
       "    <tr>\n",
       "      <th>12</th>\n",
       "      <td>10</td>\n",
       "      <td>5</td>\n",
       "    </tr>\n",
       "    <tr>\n",
       "      <th>13</th>\n",
       "      <td>4712</td>\n",
       "      <td>201</td>\n",
       "    </tr>\n",
       "    <tr>\n",
       "      <th>14</th>\n",
       "      <td>674</td>\n",
       "      <td>306</td>\n",
       "    </tr>\n",
       "  </tbody>\n",
       "</table>\n",
       "</div>"
      ],
      "text/plain": [
       "income         0     1\n",
       "occupation            \n",
       "1           1316   170\n",
       "2           1026   419\n",
       "3           4838   759\n",
       "4           1933   136\n",
       "5           5920  2939\n",
       "6           2647   371\n",
       "7           3173  2837\n",
       "8            239     3\n",
       "9           4726  1365\n",
       "10          4027  1439\n",
       "11          1872   480\n",
       "12            10     5\n",
       "13          4712   201\n",
       "14           674   306"
      ]
     },
     "execution_count": 104,
     "metadata": {},
     "output_type": "execute_result"
    }
   ],
   "source": [
    "pd.crosstab(data['occupation'],data['income'])"
   ]
  },
  {
   "cell_type": "code",
   "execution_count": 105,
   "id": "60856dc6",
   "metadata": {},
   "outputs": [
    {
     "data": {
      "text/html": [
       "<div>\n",
       "<style scoped>\n",
       "    .dataframe tbody tr th:only-of-type {\n",
       "        vertical-align: middle;\n",
       "    }\n",
       "\n",
       "    .dataframe tbody tr th {\n",
       "        vertical-align: top;\n",
       "    }\n",
       "\n",
       "    .dataframe thead th {\n",
       "        text-align: right;\n",
       "    }\n",
       "</style>\n",
       "<table border=\"1\" class=\"dataframe\">\n",
       "  <thead>\n",
       "    <tr style=\"text-align: right;\">\n",
       "      <th>income</th>\n",
       "      <th>0</th>\n",
       "      <th>1</th>\n",
       "    </tr>\n",
       "    <tr>\n",
       "      <th>race</th>\n",
       "      <th></th>\n",
       "      <th></th>\n",
       "    </tr>\n",
       "  </thead>\n",
       "  <tbody>\n",
       "    <tr>\n",
       "      <th>0</th>\n",
       "      <td>4116</td>\n",
       "      <td>555</td>\n",
       "    </tr>\n",
       "    <tr>\n",
       "      <th>1</th>\n",
       "      <td>1104</td>\n",
       "      <td>394</td>\n",
       "    </tr>\n",
       "    <tr>\n",
       "      <th>2</th>\n",
       "      <td>356</td>\n",
       "      <td>47</td>\n",
       "    </tr>\n",
       "    <tr>\n",
       "      <th>3</th>\n",
       "      <td>31122</td>\n",
       "      <td>10379</td>\n",
       "    </tr>\n",
       "    <tr>\n",
       "      <th>4</th>\n",
       "      <td>415</td>\n",
       "      <td>55</td>\n",
       "    </tr>\n",
       "  </tbody>\n",
       "</table>\n",
       "</div>"
      ],
      "text/plain": [
       "income      0      1\n",
       "race                \n",
       "0        4116    555\n",
       "1        1104    394\n",
       "2         356     47\n",
       "3       31122  10379\n",
       "4         415     55"
      ]
     },
     "execution_count": 105,
     "metadata": {},
     "output_type": "execute_result"
    }
   ],
   "source": [
    "pd.crosstab(data['race'],data['income'])"
   ]
  },
  {
   "cell_type": "code",
   "execution_count": 106,
   "id": "c384c42c",
   "metadata": {},
   "outputs": [
    {
     "data": {
      "text/html": [
       "<div>\n",
       "<style scoped>\n",
       "    .dataframe tbody tr th:only-of-type {\n",
       "        vertical-align: middle;\n",
       "    }\n",
       "\n",
       "    .dataframe tbody tr th {\n",
       "        vertical-align: top;\n",
       "    }\n",
       "\n",
       "    .dataframe thead th {\n",
       "        text-align: right;\n",
       "    }\n",
       "</style>\n",
       "<table border=\"1\" class=\"dataframe\">\n",
       "  <thead>\n",
       "    <tr style=\"text-align: right;\">\n",
       "      <th>income</th>\n",
       "      <th>0</th>\n",
       "      <th>1</th>\n",
       "    </tr>\n",
       "    <tr>\n",
       "      <th>gender</th>\n",
       "      <th></th>\n",
       "      <th></th>\n",
       "    </tr>\n",
       "  </thead>\n",
       "  <tbody>\n",
       "    <tr>\n",
       "      <th>0</th>\n",
       "      <td>22704</td>\n",
       "      <td>9700</td>\n",
       "    </tr>\n",
       "    <tr>\n",
       "      <th>1</th>\n",
       "      <td>14409</td>\n",
       "      <td>1730</td>\n",
       "    </tr>\n",
       "  </tbody>\n",
       "</table>\n",
       "</div>"
      ],
      "text/plain": [
       "income      0     1\n",
       "gender             \n",
       "0       22704  9700\n",
       "1       14409  1730"
      ]
     },
     "execution_count": 106,
     "metadata": {},
     "output_type": "execute_result"
    }
   ],
   "source": [
    "pd.crosstab(data['gender'],data['income'])"
   ]
  },
  {
   "cell_type": "code",
   "execution_count": 107,
   "id": "b7683eb7",
   "metadata": {},
   "outputs": [
    {
     "data": {
      "text/html": [
       "<div>\n",
       "<style scoped>\n",
       "    .dataframe tbody tr th:only-of-type {\n",
       "        vertical-align: middle;\n",
       "    }\n",
       "\n",
       "    .dataframe tbody tr th {\n",
       "        vertical-align: top;\n",
       "    }\n",
       "\n",
       "    .dataframe thead th {\n",
       "        text-align: right;\n",
       "    }\n",
       "</style>\n",
       "<table border=\"1\" class=\"dataframe\">\n",
       "  <thead>\n",
       "    <tr style=\"text-align: right;\">\n",
       "      <th>income</th>\n",
       "      <th>0</th>\n",
       "      <th>1</th>\n",
       "    </tr>\n",
       "    <tr>\n",
       "      <th>native-country</th>\n",
       "      <th></th>\n",
       "      <th></th>\n",
       "    </tr>\n",
       "  </thead>\n",
       "  <tbody>\n",
       "    <tr>\n",
       "      <th>0</th>\n",
       "      <td>35575</td>\n",
       "      <td>10882</td>\n",
       "    </tr>\n",
       "    <tr>\n",
       "      <th>1</th>\n",
       "      <td>187</td>\n",
       "      <td>15</td>\n",
       "    </tr>\n",
       "    <tr>\n",
       "      <th>2</th>\n",
       "      <td>686</td>\n",
       "      <td>284</td>\n",
       "    </tr>\n",
       "    <tr>\n",
       "      <th>3</th>\n",
       "      <td>550</td>\n",
       "      <td>229</td>\n",
       "    </tr>\n",
       "    <tr>\n",
       "      <th>4</th>\n",
       "      <td>93</td>\n",
       "      <td>19</td>\n",
       "    </tr>\n",
       "    <tr>\n",
       "      <th>5</th>\n",
       "      <td>22</td>\n",
       "      <td>1</td>\n",
       "    </tr>\n",
       "  </tbody>\n",
       "</table>\n",
       "</div>"
      ],
      "text/plain": [
       "income              0      1\n",
       "native-country              \n",
       "0               35575  10882\n",
       "1                 187     15\n",
       "2                 686    284\n",
       "3                 550    229\n",
       "4                  93     19\n",
       "5                  22      1"
      ]
     },
     "execution_count": 107,
     "metadata": {},
     "output_type": "execute_result"
    }
   ],
   "source": [
    "pd.crosstab(data['native-country'],data['income'])"
   ]
  },
  {
   "cell_type": "markdown",
   "id": "a995bb5e",
   "metadata": {},
   "source": [
    "# Step - 7 \n",
    "Perform feature transformation: For Numerical Features -> Do Column Standardization For Categorical \n",
    "if more than 2 categories, use dummy variables. Otherwise convert the feature to Binary."
   ]
  },
  {
   "cell_type": "markdown",
   "id": "64e056b0",
   "metadata": {},
   "source": [
    "# Train and test split"
   ]
  },
  {
   "cell_type": "markdown",
   "id": "5fdba915",
   "metadata": {},
   "source": [
    "Target Attribute Distribution"
   ]
  },
  {
   "cell_type": "code",
   "execution_count": 108,
   "id": "4187e36c",
   "metadata": {},
   "outputs": [
    {
     "data": {
      "text/plain": [
       "0    37113\n",
       "1    11430\n",
       "Name: income, dtype: int64"
      ]
     },
     "execution_count": 108,
     "metadata": {},
     "output_type": "execute_result"
    }
   ],
   "source": [
    "data['income'].value_counts()"
   ]
  },
  {
   "cell_type": "code",
   "execution_count": 109,
   "id": "3d9afed8",
   "metadata": {},
   "outputs": [
    {
     "data": {
      "text/plain": [
       "0    76.453866\n",
       "1    23.546134\n",
       "Name: income, dtype: float64"
      ]
     },
     "execution_count": 109,
     "metadata": {},
     "output_type": "execute_result"
    }
   ],
   "source": [
    "data['income'].value_counts(normalize=True)*100"
   ]
  },
  {
   "cell_type": "markdown",
   "id": "39437cba",
   "metadata": {},
   "source": [
    "# Split the data into Train and Test"
   ]
  },
  {
   "cell_type": "markdown",
   "id": "5a4f290f",
   "metadata": {},
   "source": [
    "sklearn.model_selection.train_test_split\n",
    "\n",
    "Split arrays or matrices into random train and test subsets"
   ]
  },
  {
   "cell_type": "code",
   "execution_count": 110,
   "id": "1719797c",
   "metadata": {},
   "outputs": [],
   "source": [
    "X = data.drop('income', axis=1)\n",
    "y = data['income']\n",
    "\n",
    "X_train, X_test, y_train, y_test = train_test_split(X, y, test_size=0.30, random_state=123) "
   ]
  },
  {
   "cell_type": "markdown",
   "id": "906e4104",
   "metadata": {},
   "source": [
    "Target Attribute Distribution after Train Test Split"
   ]
  },
  {
   "cell_type": "code",
   "execution_count": 111,
   "id": "352c4189",
   "metadata": {},
   "outputs": [
    {
     "name": "stdout",
     "output_type": "stream",
     "text": [
      "0    76.33608\n",
      "1    23.66392\n",
      "Name: income, dtype: float64\n",
      "0    76.728696\n",
      "1    23.271304\n",
      "Name: income, dtype: float64\n"
     ]
    }
   ],
   "source": [
    "print(pd.value_counts(y_train)/y_train.count() * 100)\n",
    "\n",
    "print(pd.value_counts(y_test) /y_test.count() * 100)"
   ]
  },
  {
   "cell_type": "markdown",
   "id": "76836879",
   "metadata": {},
   "source": [
    "# Standardize the numerical attributes\n",
    "Note: For Decision Tree and Random Forest Numeric attributes need not be standardized"
   ]
  },
  {
   "cell_type": "code",
   "execution_count": 112,
   "id": "d079f65d",
   "metadata": {},
   "outputs": [
    {
     "data": {
      "text/plain": [
       "Index(['age', 'fnlwgt', 'capital-gain', 'capital-loss', 'hours-per-week',\n",
       "       'native-country'],\n",
       "      dtype='object')"
      ]
     },
     "execution_count": 112,
     "metadata": {},
     "output_type": "execute_result"
    }
   ],
   "source": [
    "num_attr = X_train.select_dtypes(include=['int32']).columns\n",
    "num_attr"
   ]
  },
  {
   "cell_type": "markdown",
   "id": "268d2110",
   "metadata": {},
   "source": [
    "# Using StandardScaler, standardize the numerical attributes"
   ]
  },
  {
   "cell_type": "code",
   "execution_count": 113,
   "id": "7da3c2f9",
   "metadata": {},
   "outputs": [
    {
     "data": {
      "text/plain": [
       "StandardScaler()"
      ]
     },
     "execution_count": 113,
     "metadata": {},
     "output_type": "execute_result"
    }
   ],
   "source": [
    "scaler = StandardScaler()\n",
    "scaler.fit(X_train[num_attr])"
   ]
  },
  {
   "cell_type": "code",
   "execution_count": 114,
   "id": "7274eb9a",
   "metadata": {},
   "outputs": [],
   "source": [
    "X_train_std = scaler.transform(X_train[num_attr])\n",
    "X_test_std = scaler.transform(X_test[num_attr])"
   ]
  },
  {
   "cell_type": "code",
   "execution_count": 115,
   "id": "4632bf25",
   "metadata": {},
   "outputs": [
    {
     "name": "stdout",
     "output_type": "stream",
     "text": [
      "(33980, 6)\n",
      "(14563, 6)\n"
     ]
    }
   ],
   "source": [
    "print(X_train_std.shape)\n",
    "print(X_test_std.shape)"
   ]
  },
  {
   "cell_type": "markdown",
   "id": "bac1ab7c",
   "metadata": {},
   "source": [
    "# Converting Categorical attributes to Numeric attributes\n",
    "Store categorical attributes name"
   ]
  },
  {
   "cell_type": "code",
   "execution_count": 116,
   "id": "5fcb09ec",
   "metadata": {},
   "outputs": [
    {
     "data": {
      "text/plain": [
       "Index(['workclass', 'education', 'marital-status', 'occupation', 'race',\n",
       "       'gender'],\n",
       "      dtype='object')"
      ]
     },
     "execution_count": 116,
     "metadata": {},
     "output_type": "execute_result"
    }
   ],
   "source": [
    "cat_attr = X_train.select_dtypes(include=['category']).columns\n",
    "cat_attr"
   ]
  },
  {
   "cell_type": "markdown",
   "id": "2dfa3a1f",
   "metadata": {},
   "source": [
    "Using OneHotEncoder, converting Categorical attributes to Numeric attributes"
   ]
  },
  {
   "cell_type": "code",
   "execution_count": 117,
   "id": "7fc7baa5",
   "metadata": {},
   "outputs": [
    {
     "data": {
      "text/plain": [
       "OneHotEncoder(drop='first')"
      ]
     },
     "execution_count": 117,
     "metadata": {},
     "output_type": "execute_result"
    }
   ],
   "source": [
    "enc = OneHotEncoder(drop='first')\n",
    "\n",
    "enc.fit(X_train[cat_attr])"
   ]
  },
  {
   "cell_type": "code",
   "execution_count": 118,
   "id": "c05a0157",
   "metadata": {},
   "outputs": [],
   "source": [
    "col_names = enc.get_feature_names()"
   ]
  },
  {
   "cell_type": "code",
   "execution_count": 119,
   "id": "9c70856b",
   "metadata": {},
   "outputs": [
    {
     "data": {
      "text/plain": [
       "array(['x0_1.0', 'x0_2.0', 'x0_3.0', 'x0_nan', 'x1_1', 'x1_2', 'x1_3',\n",
       "       'x1_4', 'x1_5', 'x1_6', 'x1_7', 'x1_8', 'x1_9', 'x2_2', 'x2_3',\n",
       "       'x2_5', 'x3_2', 'x3_3', 'x3_4', 'x3_5', 'x3_6', 'x3_7', 'x3_8',\n",
       "       'x3_9', 'x3_10', 'x3_11', 'x3_12', 'x3_13', 'x3_14', 'x4_1',\n",
       "       'x4_2', 'x4_3', 'x4_4', 'x5_1'], dtype=object)"
      ]
     },
     "execution_count": 119,
     "metadata": {},
     "output_type": "execute_result"
    }
   ],
   "source": [
    "col_names"
   ]
  },
  {
   "cell_type": "code",
   "execution_count": 120,
   "id": "2a5bc7a0",
   "metadata": {},
   "outputs": [],
   "source": [
    "X_train_ohe=enc.transform(X_train[cat_attr]).toarray()\n",
    "X_test_ohe=enc.transform(X_test[cat_attr]).toarray()"
   ]
  },
  {
   "cell_type": "markdown",
   "id": "281ca0d1",
   "metadata": {},
   "source": [
    "# Concatenate attribute\n",
    "Standardised numeric attributes and One hot encoded categorical attributes"
   ]
  },
  {
   "cell_type": "code",
   "execution_count": 121,
   "id": "d887ec57",
   "metadata": {},
   "outputs": [],
   "source": [
    "X_train_con = np.concatenate([X_train_std, X_train_ohe], axis=1)\n",
    "X_test_con = np.concatenate([X_test_std, X_test_ohe], axis=1)"
   ]
  },
  {
   "cell_type": "code",
   "execution_count": 122,
   "id": "9fe4ea26",
   "metadata": {},
   "outputs": [
    {
     "data": {
      "text/plain": [
       "(33980, 40)"
      ]
     },
     "execution_count": 122,
     "metadata": {},
     "output_type": "execute_result"
    }
   ],
   "source": [
    "X_train_con.shape"
   ]
  },
  {
   "cell_type": "markdown",
   "id": "2522ce2f",
   "metadata": {},
   "source": [
    "# Step - 8 \n",
    "Build various Machine Learning models considering ‘income’ as target variable"
   ]
  },
  {
   "cell_type": "markdown",
   "id": "1fe62bcf",
   "metadata": {},
   "source": [
    "# Decision Tree"
   ]
  },
  {
   "cell_type": "code",
   "execution_count": 123,
   "id": "225ae68e",
   "metadata": {},
   "outputs": [],
   "source": [
    "clf_dt = DecisionTreeClassifier(max_depth=10)"
   ]
  },
  {
   "cell_type": "code",
   "execution_count": 124,
   "id": "df07fbe3",
   "metadata": {},
   "outputs": [
    {
     "data": {
      "text/plain": [
       "DecisionTreeClassifier(max_depth=10)"
      ]
     },
     "execution_count": 124,
     "metadata": {},
     "output_type": "execute_result"
    }
   ],
   "source": [
    "clf_dt.fit(X_train_con,y_train)"
   ]
  },
  {
   "cell_type": "code",
   "execution_count": 125,
   "id": "ed379efd",
   "metadata": {},
   "outputs": [],
   "source": [
    "y_pred_train = clf_dt.predict(X_train_con)\n",
    "y_pred_val = clf_dt.predict(X_test_con)"
   ]
  },
  {
   "cell_type": "code",
   "execution_count": 126,
   "id": "e467b4f1",
   "metadata": {},
   "outputs": [],
   "source": [
    "def classifcation_report_train_test(y_train, y_train_pred, y_test, y_test_pred):\n",
    "\n",
    "    print('''\n",
    "            =========================================\n",
    "               CLASSIFICATION REPORT FOR TRAIN DATA\n",
    "            =========================================\n",
    "            ''')\n",
    "    print(classification_report(y_train, y_train_pred, digits=4))\n",
    "\n",
    "    print('''\n",
    "            =========================================\n",
    "               CLASSIFICATION REPORT FOR VALIDATION DATA\n",
    "            =========================================\n",
    "            ''')\n",
    "    print(classification_report(y_test, y_test_pred, digits=4))"
   ]
  },
  {
   "cell_type": "code",
   "execution_count": 127,
   "id": "81517978",
   "metadata": {},
   "outputs": [],
   "source": [
    "scores = pd.DataFrame(columns=['Model', 'Train_Accuracy', 'Train_Recall', 'Train_Precision', 'Train_F1', \n",
    "                               'Test_Accuracy', 'Test_Recall', 'Test_Precision', 'Test_F1'])\n",
    "\n",
    "def get_metrics(train_actual, train_predicted, test_actual, test_predicted, model_description, dataframe):\n",
    "\n",
    "    train_accuracy  = accuracy_score(train_actual, train_predicted)\n",
    "    train_recall    = recall_score(train_actual, train_predicted, average=\"weighted\")\n",
    "    train_precision = precision_score(train_actual, train_predicted, average=\"weighted\")\n",
    "    train_f1score   = f1_score(train_actual, train_predicted, average=\"weighted\")\n",
    "    \n",
    "    test_accuracy   = accuracy_score(test_actual, test_predicted)\n",
    "    test_recall     = recall_score(test_actual, test_predicted, average=\"weighted\")\n",
    "    test_precision  = precision_score(test_actual, test_predicted, average=\"weighted\")\n",
    "    test_f1score    = f1_score(test_actual, test_predicted, average=\"weighted\")\n",
    "\n",
    "    dataframe       = dataframe.append(pd.Series([model_description, \n",
    "                                                  train_accuracy, train_recall, train_precision, train_f1score,\n",
    "                                                  test_accuracy, test_recall, test_precision, test_f1score],\n",
    "                                                 index=scores.columns ), \n",
    "                                       ignore_index=True)\n",
    "\n",
    "    return(dataframe)"
   ]
  },
  {
   "cell_type": "code",
   "execution_count": 128,
   "id": "9daf352b",
   "metadata": {},
   "outputs": [
    {
     "data": {
      "text/html": [
       "<div>\n",
       "<style scoped>\n",
       "    .dataframe tbody tr th:only-of-type {\n",
       "        vertical-align: middle;\n",
       "    }\n",
       "\n",
       "    .dataframe tbody tr th {\n",
       "        vertical-align: top;\n",
       "    }\n",
       "\n",
       "    .dataframe thead th {\n",
       "        text-align: right;\n",
       "    }\n",
       "</style>\n",
       "<table border=\"1\" class=\"dataframe\">\n",
       "  <thead>\n",
       "    <tr style=\"text-align: right;\">\n",
       "      <th></th>\n",
       "      <th>Model</th>\n",
       "      <th>Train_Accuracy</th>\n",
       "      <th>Train_Recall</th>\n",
       "      <th>Train_Precision</th>\n",
       "      <th>Train_F1</th>\n",
       "      <th>Test_Accuracy</th>\n",
       "      <th>Test_Recall</th>\n",
       "      <th>Test_Precision</th>\n",
       "      <th>Test_F1</th>\n",
       "    </tr>\n",
       "  </thead>\n",
       "  <tbody>\n",
       "    <tr>\n",
       "      <th>0</th>\n",
       "      <td>DecisionTrees</td>\n",
       "      <td>0.864244</td>\n",
       "      <td>0.864244</td>\n",
       "      <td>0.8585</td>\n",
       "      <td>0.85858</td>\n",
       "      <td>0.851748</td>\n",
       "      <td>0.851748</td>\n",
       "      <td>0.869462</td>\n",
       "      <td>0.858212</td>\n",
       "    </tr>\n",
       "  </tbody>\n",
       "</table>\n",
       "</div>"
      ],
      "text/plain": [
       "           Model  Train_Accuracy  Train_Recall  Train_Precision  Train_F1  \\\n",
       "0  DecisionTrees        0.864244      0.864244           0.8585   0.85858   \n",
       "\n",
       "   Test_Accuracy  Test_Recall  Test_Precision   Test_F1  \n",
       "0       0.851748     0.851748        0.869462  0.858212  "
      ]
     },
     "execution_count": 128,
     "metadata": {},
     "output_type": "execute_result"
    }
   ],
   "source": [
    "scores = get_metrics(y_train, y_pred_train, y_pred_val, y_test, \"DecisionTrees\", scores)\n",
    "scores"
   ]
  },
  {
   "cell_type": "code",
   "execution_count": 129,
   "id": "7d62d563",
   "metadata": {},
   "outputs": [
    {
     "name": "stdout",
     "output_type": "stream",
     "text": [
      "\n",
      "            =========================================\n",
      "               CLASSIFICATION REPORT FOR TRAIN DATA\n",
      "            =========================================\n",
      "            \n",
      "              precision    recall  f1-score   support\n",
      "\n",
      "           0     0.8865    0.9429    0.9138     25939\n",
      "           1     0.7681    0.6106    0.6804      8041\n",
      "\n",
      "    accuracy                         0.8642     33980\n",
      "   macro avg     0.8273    0.7767    0.7971     33980\n",
      "weighted avg     0.8585    0.8642    0.8586     33980\n",
      "\n",
      "\n",
      "            =========================================\n",
      "               CLASSIFICATION REPORT FOR VALIDATION DATA\n",
      "            =========================================\n",
      "            \n",
      "              precision    recall  f1-score   support\n",
      "\n",
      "           0     0.8791    0.9355    0.9064     11174\n",
      "           1     0.7302    0.5757    0.6438      3389\n",
      "\n",
      "    accuracy                         0.8517     14563\n",
      "   macro avg     0.8046    0.7556    0.7751     14563\n",
      "weighted avg     0.8444    0.8517    0.8453     14563\n",
      "\n"
     ]
    }
   ],
   "source": [
    "classifcation_report_train_test(y_train, y_pred_train, y_test, y_pred_val)"
   ]
  },
  {
   "cell_type": "markdown",
   "id": "70ecdba8",
   "metadata": {},
   "source": [
    "# Random Forest"
   ]
  },
  {
   "cell_type": "code",
   "execution_count": 130,
   "id": "5b755138",
   "metadata": {},
   "outputs": [],
   "source": [
    "clf_rf = RandomForestClassifier()"
   ]
  },
  {
   "cell_type": "code",
   "execution_count": 131,
   "id": "bae93a37",
   "metadata": {},
   "outputs": [
    {
     "data": {
      "text/plain": [
       "RandomForestClassifier()"
      ]
     },
     "execution_count": 131,
     "metadata": {},
     "output_type": "execute_result"
    }
   ],
   "source": [
    "clf_rf.fit(X=X_train_con, y=y_train)"
   ]
  },
  {
   "cell_type": "code",
   "execution_count": 132,
   "id": "d410e443",
   "metadata": {},
   "outputs": [],
   "source": [
    "y_pred_train1 = clf_rf.predict(X_train_con)\n",
    "y_pred_val1 = clf_rf.predict(X_test_con)"
   ]
  },
  {
   "cell_type": "code",
   "execution_count": 133,
   "id": "f4edabc1",
   "metadata": {},
   "outputs": [
    {
     "name": "stdout",
     "output_type": "stream",
     "text": [
      "\n",
      "            =========================================\n",
      "               CLASSIFICATION REPORT FOR TRAIN DATA\n",
      "            =========================================\n",
      "            \n",
      "              precision    recall  f1-score   support\n",
      "\n",
      "           0     0.9992    0.9996    0.9994     25939\n",
      "           1     0.9986    0.9975    0.9981      8041\n",
      "\n",
      "    accuracy                         0.9991     33980\n",
      "   macro avg     0.9989    0.9985    0.9987     33980\n",
      "weighted avg     0.9991    0.9991    0.9991     33980\n",
      "\n",
      "\n",
      "            =========================================\n",
      "               CLASSIFICATION REPORT FOR VALIDATION DATA\n",
      "            =========================================\n",
      "            \n",
      "              precision    recall  f1-score   support\n",
      "\n",
      "           0     0.8822    0.9260    0.9036     11174\n",
      "           1     0.7083    0.5925    0.6452      3389\n",
      "\n",
      "    accuracy                         0.8484     14563\n",
      "   macro avg     0.7953    0.7592    0.7744     14563\n",
      "weighted avg     0.8418    0.8484    0.8435     14563\n",
      "\n"
     ]
    }
   ],
   "source": [
    "classifcation_report_train_test(y_train, y_pred_train1, y_test, y_pred_val1)"
   ]
  },
  {
   "cell_type": "code",
   "execution_count": 134,
   "id": "ef0ca996",
   "metadata": {},
   "outputs": [
    {
     "data": {
      "text/html": [
       "<div>\n",
       "<style scoped>\n",
       "    .dataframe tbody tr th:only-of-type {\n",
       "        vertical-align: middle;\n",
       "    }\n",
       "\n",
       "    .dataframe tbody tr th {\n",
       "        vertical-align: top;\n",
       "    }\n",
       "\n",
       "    .dataframe thead th {\n",
       "        text-align: right;\n",
       "    }\n",
       "</style>\n",
       "<table border=\"1\" class=\"dataframe\">\n",
       "  <thead>\n",
       "    <tr style=\"text-align: right;\">\n",
       "      <th></th>\n",
       "      <th>Model</th>\n",
       "      <th>Train_Accuracy</th>\n",
       "      <th>Train_Recall</th>\n",
       "      <th>Train_Precision</th>\n",
       "      <th>Train_F1</th>\n",
       "      <th>Test_Accuracy</th>\n",
       "      <th>Test_Recall</th>\n",
       "      <th>Test_Precision</th>\n",
       "      <th>Test_F1</th>\n",
       "    </tr>\n",
       "  </thead>\n",
       "  <tbody>\n",
       "    <tr>\n",
       "      <th>0</th>\n",
       "      <td>DecisionTrees</td>\n",
       "      <td>0.864244</td>\n",
       "      <td>0.864244</td>\n",
       "      <td>0.858500</td>\n",
       "      <td>0.858580</td>\n",
       "      <td>0.851748</td>\n",
       "      <td>0.851748</td>\n",
       "      <td>0.869462</td>\n",
       "      <td>0.858212</td>\n",
       "    </tr>\n",
       "    <tr>\n",
       "      <th>1</th>\n",
       "      <td>RandomForest</td>\n",
       "      <td>0.999088</td>\n",
       "      <td>0.999088</td>\n",
       "      <td>0.999088</td>\n",
       "      <td>0.999088</td>\n",
       "      <td>0.848383</td>\n",
       "      <td>0.848383</td>\n",
       "      <td>0.841765</td>\n",
       "      <td>0.843469</td>\n",
       "    </tr>\n",
       "  </tbody>\n",
       "</table>\n",
       "</div>"
      ],
      "text/plain": [
       "           Model  Train_Accuracy  Train_Recall  Train_Precision  Train_F1  \\\n",
       "0  DecisionTrees        0.864244      0.864244         0.858500  0.858580   \n",
       "1   RandomForest        0.999088      0.999088         0.999088  0.999088   \n",
       "\n",
       "   Test_Accuracy  Test_Recall  Test_Precision   Test_F1  \n",
       "0       0.851748     0.851748        0.869462  0.858212  \n",
       "1       0.848383     0.848383        0.841765  0.843469  "
      ]
     },
     "execution_count": 134,
     "metadata": {},
     "output_type": "execute_result"
    }
   ],
   "source": [
    "scores = get_metrics(y_train, y_pred_train1, y_test, y_pred_val1, \"RandomForest\", scores)\n",
    "scores"
   ]
  },
  {
   "cell_type": "markdown",
   "id": "34fd0471",
   "metadata": {},
   "source": [
    "# AdaBoost"
   ]
  },
  {
   "cell_type": "code",
   "execution_count": 135,
   "id": "93c7d0c7",
   "metadata": {},
   "outputs": [],
   "source": [
    "clf_adaboost =  AdaBoostClassifier()"
   ]
  },
  {
   "cell_type": "code",
   "execution_count": 136,
   "id": "044e8ab0",
   "metadata": {},
   "outputs": [
    {
     "data": {
      "text/plain": [
       "AdaBoostClassifier()"
      ]
     },
     "execution_count": 136,
     "metadata": {},
     "output_type": "execute_result"
    }
   ],
   "source": [
    "clf_adaboost.fit(X_train_con, y_train)"
   ]
  },
  {
   "cell_type": "code",
   "execution_count": 137,
   "id": "ff0133cd",
   "metadata": {},
   "outputs": [],
   "source": [
    "y_pred_train2 = clf_adaboost.predict(X_train_con)\n",
    "y_pred_val2 = clf_adaboost.predict(X_test_con)"
   ]
  },
  {
   "cell_type": "code",
   "execution_count": 138,
   "id": "07d05c53",
   "metadata": {},
   "outputs": [
    {
     "name": "stdout",
     "output_type": "stream",
     "text": [
      "\n",
      "            =========================================\n",
      "               CLASSIFICATION REPORT FOR TRAIN DATA\n",
      "            =========================================\n",
      "            \n",
      "              precision    recall  f1-score   support\n",
      "\n",
      "           0     0.8845    0.9385    0.9107     25939\n",
      "           1     0.7529    0.6045    0.6706      8041\n",
      "\n",
      "    accuracy                         0.8595     33980\n",
      "   macro avg     0.8187    0.7715    0.7907     33980\n",
      "weighted avg     0.8533    0.8595    0.8539     33980\n",
      "\n",
      "\n",
      "            =========================================\n",
      "               CLASSIFICATION REPORT FOR VALIDATION DATA\n",
      "            =========================================\n",
      "            \n",
      "              precision    recall  f1-score   support\n",
      "\n",
      "           0     0.8828    0.9354    0.9083     11174\n",
      "           1     0.7349    0.5904    0.6548      3389\n",
      "\n",
      "    accuracy                         0.8551     14563\n",
      "   macro avg     0.8088    0.7629    0.7815     14563\n",
      "weighted avg     0.8483    0.8551    0.8493     14563\n",
      "\n"
     ]
    }
   ],
   "source": [
    "classifcation_report_train_test(y_train, y_pred_train2, y_test, y_pred_val2)"
   ]
  },
  {
   "cell_type": "code",
   "execution_count": 139,
   "id": "4daa1ad1",
   "metadata": {},
   "outputs": [
    {
     "data": {
      "text/html": [
       "<div>\n",
       "<style scoped>\n",
       "    .dataframe tbody tr th:only-of-type {\n",
       "        vertical-align: middle;\n",
       "    }\n",
       "\n",
       "    .dataframe tbody tr th {\n",
       "        vertical-align: top;\n",
       "    }\n",
       "\n",
       "    .dataframe thead th {\n",
       "        text-align: right;\n",
       "    }\n",
       "</style>\n",
       "<table border=\"1\" class=\"dataframe\">\n",
       "  <thead>\n",
       "    <tr style=\"text-align: right;\">\n",
       "      <th></th>\n",
       "      <th>Model</th>\n",
       "      <th>Train_Accuracy</th>\n",
       "      <th>Train_Recall</th>\n",
       "      <th>Train_Precision</th>\n",
       "      <th>Train_F1</th>\n",
       "      <th>Test_Accuracy</th>\n",
       "      <th>Test_Recall</th>\n",
       "      <th>Test_Precision</th>\n",
       "      <th>Test_F1</th>\n",
       "    </tr>\n",
       "  </thead>\n",
       "  <tbody>\n",
       "    <tr>\n",
       "      <th>0</th>\n",
       "      <td>DecisionTrees</td>\n",
       "      <td>0.864244</td>\n",
       "      <td>0.864244</td>\n",
       "      <td>0.858500</td>\n",
       "      <td>0.858580</td>\n",
       "      <td>0.851748</td>\n",
       "      <td>0.851748</td>\n",
       "      <td>0.869462</td>\n",
       "      <td>0.858212</td>\n",
       "    </tr>\n",
       "    <tr>\n",
       "      <th>1</th>\n",
       "      <td>RandomForest</td>\n",
       "      <td>0.999088</td>\n",
       "      <td>0.999088</td>\n",
       "      <td>0.999088</td>\n",
       "      <td>0.999088</td>\n",
       "      <td>0.848383</td>\n",
       "      <td>0.848383</td>\n",
       "      <td>0.841765</td>\n",
       "      <td>0.843469</td>\n",
       "    </tr>\n",
       "    <tr>\n",
       "      <th>2</th>\n",
       "      <td>Adaboost</td>\n",
       "      <td>0.859476</td>\n",
       "      <td>0.859476</td>\n",
       "      <td>0.853341</td>\n",
       "      <td>0.853877</td>\n",
       "      <td>0.855112</td>\n",
       "      <td>0.855112</td>\n",
       "      <td>0.848348</td>\n",
       "      <td>0.849315</td>\n",
       "    </tr>\n",
       "  </tbody>\n",
       "</table>\n",
       "</div>"
      ],
      "text/plain": [
       "           Model  Train_Accuracy  Train_Recall  Train_Precision  Train_F1  \\\n",
       "0  DecisionTrees        0.864244      0.864244         0.858500  0.858580   \n",
       "1   RandomForest        0.999088      0.999088         0.999088  0.999088   \n",
       "2       Adaboost        0.859476      0.859476         0.853341  0.853877   \n",
       "\n",
       "   Test_Accuracy  Test_Recall  Test_Precision   Test_F1  \n",
       "0       0.851748     0.851748        0.869462  0.858212  \n",
       "1       0.848383     0.848383        0.841765  0.843469  \n",
       "2       0.855112     0.855112        0.848348  0.849315  "
      ]
     },
     "execution_count": 139,
     "metadata": {},
     "output_type": "execute_result"
    }
   ],
   "source": [
    "scores = get_metrics(y_train, y_pred_train2, y_test, y_pred_val2, \"Adaboost\", scores)\n",
    "scores"
   ]
  },
  {
   "cell_type": "markdown",
   "id": "0037b42b",
   "metadata": {},
   "source": [
    "# Gradient Boost"
   ]
  },
  {
   "cell_type": "code",
   "execution_count": 140,
   "id": "b4513e44",
   "metadata": {},
   "outputs": [],
   "source": [
    "clf_gbm = GradientBoostingClassifier()"
   ]
  },
  {
   "cell_type": "code",
   "execution_count": 141,
   "id": "e0b1e4c5",
   "metadata": {},
   "outputs": [
    {
     "data": {
      "text/plain": [
       "GradientBoostingClassifier()"
      ]
     },
     "execution_count": 141,
     "metadata": {},
     "output_type": "execute_result"
    }
   ],
   "source": [
    "clf_gbm.fit(X=X_train_con, y=y_train)"
   ]
  },
  {
   "cell_type": "code",
   "execution_count": 142,
   "id": "cb011ab8",
   "metadata": {},
   "outputs": [],
   "source": [
    "y_pred_train3 = clf_gbm.predict(X_train_con)\n",
    "y_pred_val3 = clf_gbm.predict(X_test_con)"
   ]
  },
  {
   "cell_type": "code",
   "execution_count": 143,
   "id": "668493cb",
   "metadata": {},
   "outputs": [
    {
     "name": "stdout",
     "output_type": "stream",
     "text": [
      "\n",
      "            =========================================\n",
      "               CLASSIFICATION REPORT FOR TRAIN DATA\n",
      "            =========================================\n",
      "            \n",
      "              precision    recall  f1-score   support\n",
      "\n",
      "           0     0.8850    0.9484    0.9156     25939\n",
      "           1     0.7834    0.6024    0.6811      8041\n",
      "\n",
      "    accuracy                         0.8665     33980\n",
      "   macro avg     0.8342    0.7754    0.7983     33980\n",
      "weighted avg     0.8610    0.8665    0.8601     33980\n",
      "\n",
      "\n",
      "            =========================================\n",
      "               CLASSIFICATION REPORT FOR VALIDATION DATA\n",
      "            =========================================\n",
      "            \n",
      "              precision    recall  f1-score   support\n",
      "\n",
      "           0     0.8824    0.9471    0.9136     11174\n",
      "           1     0.7700    0.5839    0.6642      3389\n",
      "\n",
      "    accuracy                         0.8626     14563\n",
      "   macro avg     0.8262    0.7655    0.7889     14563\n",
      "weighted avg     0.8563    0.8626    0.8556     14563\n",
      "\n"
     ]
    }
   ],
   "source": [
    "classifcation_report_train_test(y_train, y_pred_train3, y_test, y_pred_val3)"
   ]
  },
  {
   "cell_type": "code",
   "execution_count": 144,
   "id": "f52b2e0f",
   "metadata": {},
   "outputs": [
    {
     "data": {
      "text/html": [
       "<div>\n",
       "<style scoped>\n",
       "    .dataframe tbody tr th:only-of-type {\n",
       "        vertical-align: middle;\n",
       "    }\n",
       "\n",
       "    .dataframe tbody tr th {\n",
       "        vertical-align: top;\n",
       "    }\n",
       "\n",
       "    .dataframe thead th {\n",
       "        text-align: right;\n",
       "    }\n",
       "</style>\n",
       "<table border=\"1\" class=\"dataframe\">\n",
       "  <thead>\n",
       "    <tr style=\"text-align: right;\">\n",
       "      <th></th>\n",
       "      <th>Model</th>\n",
       "      <th>Train_Accuracy</th>\n",
       "      <th>Train_Recall</th>\n",
       "      <th>Train_Precision</th>\n",
       "      <th>Train_F1</th>\n",
       "      <th>Test_Accuracy</th>\n",
       "      <th>Test_Recall</th>\n",
       "      <th>Test_Precision</th>\n",
       "      <th>Test_F1</th>\n",
       "    </tr>\n",
       "  </thead>\n",
       "  <tbody>\n",
       "    <tr>\n",
       "      <th>0</th>\n",
       "      <td>DecisionTrees</td>\n",
       "      <td>0.864244</td>\n",
       "      <td>0.864244</td>\n",
       "      <td>0.858500</td>\n",
       "      <td>0.858580</td>\n",
       "      <td>0.851748</td>\n",
       "      <td>0.851748</td>\n",
       "      <td>0.869462</td>\n",
       "      <td>0.858212</td>\n",
       "    </tr>\n",
       "    <tr>\n",
       "      <th>1</th>\n",
       "      <td>RandomForest</td>\n",
       "      <td>0.999088</td>\n",
       "      <td>0.999088</td>\n",
       "      <td>0.999088</td>\n",
       "      <td>0.999088</td>\n",
       "      <td>0.848383</td>\n",
       "      <td>0.848383</td>\n",
       "      <td>0.841765</td>\n",
       "      <td>0.843469</td>\n",
       "    </tr>\n",
       "    <tr>\n",
       "      <th>2</th>\n",
       "      <td>Adaboost</td>\n",
       "      <td>0.859476</td>\n",
       "      <td>0.859476</td>\n",
       "      <td>0.853341</td>\n",
       "      <td>0.853877</td>\n",
       "      <td>0.855112</td>\n",
       "      <td>0.855112</td>\n",
       "      <td>0.848348</td>\n",
       "      <td>0.849315</td>\n",
       "    </tr>\n",
       "    <tr>\n",
       "      <th>3</th>\n",
       "      <td>GBM</td>\n",
       "      <td>0.866510</td>\n",
       "      <td>0.866510</td>\n",
       "      <td>0.860957</td>\n",
       "      <td>0.860099</td>\n",
       "      <td>0.862597</td>\n",
       "      <td>0.862597</td>\n",
       "      <td>0.856276</td>\n",
       "      <td>0.855583</td>\n",
       "    </tr>\n",
       "  </tbody>\n",
       "</table>\n",
       "</div>"
      ],
      "text/plain": [
       "           Model  Train_Accuracy  Train_Recall  Train_Precision  Train_F1  \\\n",
       "0  DecisionTrees        0.864244      0.864244         0.858500  0.858580   \n",
       "1   RandomForest        0.999088      0.999088         0.999088  0.999088   \n",
       "2       Adaboost        0.859476      0.859476         0.853341  0.853877   \n",
       "3            GBM        0.866510      0.866510         0.860957  0.860099   \n",
       "\n",
       "   Test_Accuracy  Test_Recall  Test_Precision   Test_F1  \n",
       "0       0.851748     0.851748        0.869462  0.858212  \n",
       "1       0.848383     0.848383        0.841765  0.843469  \n",
       "2       0.855112     0.855112        0.848348  0.849315  \n",
       "3       0.862597     0.862597        0.856276  0.855583  "
      ]
     },
     "execution_count": 144,
     "metadata": {},
     "output_type": "execute_result"
    }
   ],
   "source": [
    "scores = get_metrics(y_train, y_pred_train3, y_test, y_pred_val3, \"GBM\", scores)\n",
    "scores"
   ]
  },
  {
   "cell_type": "markdown",
   "id": "860a8730",
   "metadata": {},
   "source": [
    "# XGBoost"
   ]
  },
  {
   "cell_type": "code",
   "execution_count": 145,
   "id": "aec693b6",
   "metadata": {},
   "outputs": [
    {
     "name": "stdout",
     "output_type": "stream",
     "text": [
      "Requirement already satisfied: xgboost in c:\\users\\nandi\\anaconda3\\lib\\site-packages (1.5.0)\n",
      "Requirement already satisfied: scipy in c:\\users\\nandi\\anaconda3\\lib\\site-packages (from xgboost) (1.5.0)\n",
      "Requirement already satisfied: numpy in c:\\users\\nandi\\anaconda3\\lib\\site-packages (from xgboost) (1.19.5)\n"
     ]
    }
   ],
   "source": [
    "!pip install xgboost"
   ]
  },
  {
   "cell_type": "code",
   "execution_count": 146,
   "id": "ad9fad59",
   "metadata": {},
   "outputs": [],
   "source": [
    "from xgboost import XGBClassifier"
   ]
  },
  {
   "cell_type": "code",
   "execution_count": 147,
   "id": "5eac8ec9",
   "metadata": {},
   "outputs": [
    {
     "data": {
      "text/plain": [
       "XGBClassifier(base_score=None, booster=None, colsample_bylevel=None,\n",
       "              colsample_bynode=None, colsample_bytree=None,\n",
       "              enable_categorical=True, gamma=None, gpu_id=None,\n",
       "              importance_type=None, interaction_constraints=None,\n",
       "              learning_rate=None, max_delta_step=None, max_depth=None,\n",
       "              min_child_weight=None, missing=nan, monotone_constraints=None,\n",
       "              n_estimators=100, n_jobs=None, num_parallel_tree=None,\n",
       "              predictor=None, random_state=None, reg_alpha=None,\n",
       "              reg_lambda=None, scale_pos_weight=None, subsample=None,\n",
       "              tree_method=None, validate_parameters=None, verbosity=None)"
      ]
     },
     "execution_count": 147,
     "metadata": {},
     "output_type": "execute_result"
    }
   ],
   "source": [
    "XGBClassifier(enable_categorical=True)"
   ]
  },
  {
   "cell_type": "code",
   "execution_count": 148,
   "id": "bbb88e50",
   "metadata": {},
   "outputs": [],
   "source": [
    "clf_xgb = XGBClassifier()"
   ]
  },
  {
   "cell_type": "code",
   "execution_count": 149,
   "id": "f53fa9ea",
   "metadata": {},
   "outputs": [],
   "source": [
    "X_train=X_train_con.astype(int)"
   ]
  },
  {
   "cell_type": "code",
   "execution_count": 150,
   "id": "132e91d7",
   "metadata": {},
   "outputs": [
    {
     "name": "stdout",
     "output_type": "stream",
     "text": [
      "[22:13:42] WARNING: C:/Users/Administrator/workspace/xgboost-win64_release_1.5.0/src/learner.cc:1115: Starting in XGBoost 1.3.0, the default evaluation metric used with the objective 'binary:logistic' was changed from 'error' to 'logloss'. Explicitly set eval_metric if you'd like to restore the old behavior.\n"
     ]
    },
    {
     "data": {
      "text/plain": [
       "XGBClassifier(base_score=0.5, booster='gbtree', colsample_bylevel=1,\n",
       "              colsample_bynode=1, colsample_bytree=1, enable_categorical=False,\n",
       "              gamma=0, gpu_id=-1, importance_type=None,\n",
       "              interaction_constraints='', learning_rate=0.300000012,\n",
       "              max_delta_step=0, max_depth=6, min_child_weight=1, missing=nan,\n",
       "              monotone_constraints='()', n_estimators=100, n_jobs=4,\n",
       "              num_parallel_tree=1, predictor='auto', random_state=0,\n",
       "              reg_alpha=0, reg_lambda=1, scale_pos_weight=1, subsample=1,\n",
       "              tree_method='exact', validate_parameters=1, verbosity=None)"
      ]
     },
     "execution_count": 150,
     "metadata": {},
     "output_type": "execute_result"
    }
   ],
   "source": [
    "clf_xgb.fit(X=X_train_con, y=y_train)"
   ]
  },
  {
   "cell_type": "code",
   "execution_count": 151,
   "id": "3a59445f",
   "metadata": {},
   "outputs": [],
   "source": [
    "X_val=X_test_con.astype(int)"
   ]
  },
  {
   "cell_type": "code",
   "execution_count": 152,
   "id": "294f1428",
   "metadata": {},
   "outputs": [],
   "source": [
    "y_pred_train4 = clf_xgb.predict(X_train_con)\n",
    "y_pred_val4 = clf_xgb.predict(X_test_con)"
   ]
  },
  {
   "cell_type": "code",
   "execution_count": 153,
   "id": "7f48dfc2",
   "metadata": {},
   "outputs": [
    {
     "name": "stdout",
     "output_type": "stream",
     "text": [
      "\n",
      "            =========================================\n",
      "               CLASSIFICATION REPORT FOR TRAIN DATA\n",
      "            =========================================\n",
      "            \n",
      "              precision    recall  f1-score   support\n",
      "\n",
      "           0     0.9130    0.9593    0.9356     25939\n",
      "           1     0.8430    0.7051    0.7679      8041\n",
      "\n",
      "    accuracy                         0.8991     33980\n",
      "   macro avg     0.8780    0.8322    0.8518     33980\n",
      "weighted avg     0.8964    0.8991    0.8959     33980\n",
      "\n",
      "\n",
      "            =========================================\n",
      "               CLASSIFICATION REPORT FOR VALIDATION DATA\n",
      "            =========================================\n",
      "            \n",
      "              precision    recall  f1-score   support\n",
      "\n",
      "           0     0.8898    0.9420    0.9151     11174\n",
      "           1     0.7629    0.6152    0.6811      3389\n",
      "\n",
      "    accuracy                         0.8660     14563\n",
      "   macro avg     0.8263    0.7786    0.7981     14563\n",
      "weighted avg     0.8602    0.8660    0.8607     14563\n",
      "\n"
     ]
    }
   ],
   "source": [
    "classifcation_report_train_test(y_train, y_pred_train4, y_test, y_pred_val4)"
   ]
  },
  {
   "cell_type": "markdown",
   "id": "ebed74be",
   "metadata": {},
   "source": [
    "# Step - 9 \n",
    "Create a table to compare the performance of each of the ML Model"
   ]
  },
  {
   "cell_type": "code",
   "execution_count": 154,
   "id": "be86c6e0",
   "metadata": {},
   "outputs": [
    {
     "data": {
      "text/html": [
       "<div>\n",
       "<style scoped>\n",
       "    .dataframe tbody tr th:only-of-type {\n",
       "        vertical-align: middle;\n",
       "    }\n",
       "\n",
       "    .dataframe tbody tr th {\n",
       "        vertical-align: top;\n",
       "    }\n",
       "\n",
       "    .dataframe thead th {\n",
       "        text-align: right;\n",
       "    }\n",
       "</style>\n",
       "<table border=\"1\" class=\"dataframe\">\n",
       "  <thead>\n",
       "    <tr style=\"text-align: right;\">\n",
       "      <th></th>\n",
       "      <th>Model</th>\n",
       "      <th>Train_Accuracy</th>\n",
       "      <th>Train_Recall</th>\n",
       "      <th>Train_Precision</th>\n",
       "      <th>Train_F1</th>\n",
       "      <th>Test_Accuracy</th>\n",
       "      <th>Test_Recall</th>\n",
       "      <th>Test_Precision</th>\n",
       "      <th>Test_F1</th>\n",
       "    </tr>\n",
       "  </thead>\n",
       "  <tbody>\n",
       "    <tr>\n",
       "      <th>0</th>\n",
       "      <td>DecisionTrees</td>\n",
       "      <td>0.864244</td>\n",
       "      <td>0.864244</td>\n",
       "      <td>0.858500</td>\n",
       "      <td>0.858580</td>\n",
       "      <td>0.851748</td>\n",
       "      <td>0.851748</td>\n",
       "      <td>0.869462</td>\n",
       "      <td>0.858212</td>\n",
       "    </tr>\n",
       "    <tr>\n",
       "      <th>1</th>\n",
       "      <td>RandomForest</td>\n",
       "      <td>0.999088</td>\n",
       "      <td>0.999088</td>\n",
       "      <td>0.999088</td>\n",
       "      <td>0.999088</td>\n",
       "      <td>0.848383</td>\n",
       "      <td>0.848383</td>\n",
       "      <td>0.841765</td>\n",
       "      <td>0.843469</td>\n",
       "    </tr>\n",
       "    <tr>\n",
       "      <th>2</th>\n",
       "      <td>Adaboost</td>\n",
       "      <td>0.859476</td>\n",
       "      <td>0.859476</td>\n",
       "      <td>0.853341</td>\n",
       "      <td>0.853877</td>\n",
       "      <td>0.855112</td>\n",
       "      <td>0.855112</td>\n",
       "      <td>0.848348</td>\n",
       "      <td>0.849315</td>\n",
       "    </tr>\n",
       "    <tr>\n",
       "      <th>3</th>\n",
       "      <td>GBM</td>\n",
       "      <td>0.866510</td>\n",
       "      <td>0.866510</td>\n",
       "      <td>0.860957</td>\n",
       "      <td>0.860099</td>\n",
       "      <td>0.862597</td>\n",
       "      <td>0.862597</td>\n",
       "      <td>0.856276</td>\n",
       "      <td>0.855583</td>\n",
       "    </tr>\n",
       "    <tr>\n",
       "      <th>4</th>\n",
       "      <td>XGBoost</td>\n",
       "      <td>0.899147</td>\n",
       "      <td>0.899147</td>\n",
       "      <td>0.896437</td>\n",
       "      <td>0.895903</td>\n",
       "      <td>0.865962</td>\n",
       "      <td>0.865962</td>\n",
       "      <td>0.860247</td>\n",
       "      <td>0.860691</td>\n",
       "    </tr>\n",
       "  </tbody>\n",
       "</table>\n",
       "</div>"
      ],
      "text/plain": [
       "           Model  Train_Accuracy  Train_Recall  Train_Precision  Train_F1  \\\n",
       "0  DecisionTrees        0.864244      0.864244         0.858500  0.858580   \n",
       "1   RandomForest        0.999088      0.999088         0.999088  0.999088   \n",
       "2       Adaboost        0.859476      0.859476         0.853341  0.853877   \n",
       "3            GBM        0.866510      0.866510         0.860957  0.860099   \n",
       "4        XGBoost        0.899147      0.899147         0.896437  0.895903   \n",
       "\n",
       "   Test_Accuracy  Test_Recall  Test_Precision   Test_F1  \n",
       "0       0.851748     0.851748        0.869462  0.858212  \n",
       "1       0.848383     0.848383        0.841765  0.843469  \n",
       "2       0.855112     0.855112        0.848348  0.849315  \n",
       "3       0.862597     0.862597        0.856276  0.855583  \n",
       "4       0.865962     0.865962        0.860247  0.860691  "
      ]
     },
     "execution_count": 154,
     "metadata": {},
     "output_type": "execute_result"
    }
   ],
   "source": [
    "scores = get_metrics(y_train, y_pred_train4, y_test, y_pred_val4, \"XGBoost\", scores)\n",
    "scores"
   ]
  },
  {
   "cell_type": "code",
   "execution_count": null,
   "id": "4ef0746e",
   "metadata": {},
   "outputs": [],
   "source": []
  }
 ],
 "metadata": {
  "kernelspec": {
   "display_name": "Python 3",
   "language": "python",
   "name": "python3"
  },
  "language_info": {
   "codemirror_mode": {
    "name": "ipython",
    "version": 3
   },
   "file_extension": ".py",
   "mimetype": "text/x-python",
   "name": "python",
   "nbconvert_exporter": "python",
   "pygments_lexer": "ipython3",
   "version": "3.6.10"
  }
 },
 "nbformat": 4,
 "nbformat_minor": 5
}
